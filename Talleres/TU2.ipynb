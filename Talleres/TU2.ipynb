{
  "nbformat": 4,
  "nbformat_minor": 0,
  "metadata": {
    "colab": {
      "provenance": [],
      "include_colab_link": true
    },
    "kernelspec": {
      "name": "ir",
      "display_name": "R"
    },
    "language_info": {
      "name": "R"
    }
  },
  "cells": [
    {
      "cell_type": "markdown",
      "metadata": {
        "id": "view-in-github",
        "colab_type": "text"
      },
      "source": [
        "<a href=\"https://colab.research.google.com/github/PYEITSON/Probabilidad/blob/main/Talleres/TU2.ipynb\" target=\"_parent\"><img src=\"https://colab.research.google.com/assets/colab-badge.svg\" alt=\"Open In Colab\"/></a>"
      ]
    },
    {
      "cell_type": "markdown",
      "source": [
        "---\n",
        "\n",
        "<center>\n",
        "\n",
        "![](https://github.com/MayraDemoss1/Estadistica/blob/main/baner_unidad%20II.jpg?raw=true)\n",
        "</center>\n",
        "\n",
        "---"
      ],
      "metadata": {
        "id": "GPrsxDzmwsbm"
      }
    },
    {
      "cell_type": "markdown",
      "source": [
        "**Ejercicio1.** El número de pinchazos en los neumáticos de cierto vehículo industrial tiene una distribución de Poisson con media 0.3 por cada 50000 kilómetros. Si el vehiculo recorre 100000 km, calcular:"
      ],
      "metadata": {
        "id": "-1oVXuabI58R"
      }
    },
    {
      "cell_type": "markdown",
      "source": [
        "**a)Probabilidad de que no tenga pinchazos.** (0.5488)"
      ],
      "metadata": {
        "id": "DALOR3d9JAeK"
      }
    },
    {
      "cell_type": "code",
      "source": [],
      "metadata": {
        "id": "UINuADeHJBeZ"
      },
      "execution_count": null,
      "outputs": []
    },
    {
      "cell_type": "markdown",
      "source": [
        "**b)Probabilidad de que tenga menos de tres pinchazos.** (0.9769)"
      ],
      "metadata": {
        "id": "nFdocOcxJGSr"
      }
    },
    {
      "cell_type": "code",
      "source": [],
      "metadata": {
        "id": "DtlhAgrIJJsT"
      },
      "execution_count": null,
      "outputs": []
    },
    {
      "cell_type": "markdown",
      "source": [
        "**Ejercicio 2**. En una hora una máquina específica llena 1000 botellas de cerveza. En cada uno de sus intervalos, se selecciona aleatoriamente una muestra de 20 botellas y se verifica el volumen del contenido en cada una. Sea $X$ el número de botellas seleccionadas con contenido insuficiente. Suponga que en una hora específica se producen 100 botellas llenadas de forma deficiente. Calcular:"
      ],
      "metadata": {
        "id": "t-pXaVuuJKKj"
      }
    },
    {
      "cell_type": "markdown",
      "source": [
        "**a) Calcule la probabilidad de que al menos tres botellas con contenido deficiente se incluyan en las muestreadas.** (0.3224)"
      ],
      "metadata": {
        "id": "qr3PPXb_JTY2"
      }
    },
    {
      "cell_type": "code",
      "source": [],
      "metadata": {
        "id": "535OfVPyJY_A"
      },
      "execution_count": null,
      "outputs": []
    },
    {
      "cell_type": "markdown",
      "source": [
        "**b) Calcular la probabilidad de que exactamente 8 botellas con contenido deficiente se incluyan en las muestras.** (0.0003002)"
      ],
      "metadata": {
        "id": "wC2qkbBhJZ37"
      }
    },
    {
      "cell_type": "code",
      "source": [],
      "metadata": {
        "id": "HahSHUrjJfbE"
      },
      "execution_count": null,
      "outputs": []
    },
    {
      "cell_type": "markdown",
      "source": [
        "**Ejercicio 3.**De las personas que pasan a través de un detector de metales en un aeropuerto, el 0.5% lo activan; sea $X$, el número entre un grupo de 500 seleccionado al azar que activen el detector. Calcular:"
      ],
      "metadata": {
        "id": "_JKa55D6Jf3H"
      }
    },
    {
      "cell_type": "markdown",
      "source": [
        "**a) P(X=5)** (0.06688)"
      ],
      "metadata": {
        "id": "Wa__aRhvJu8r"
      }
    },
    {
      "cell_type": "code",
      "source": [],
      "metadata": {
        "id": "iqnttNAwJwKs"
      },
      "execution_count": null,
      "outputs": []
    },
    {
      "cell_type": "markdown",
      "source": [
        "**b)P(5 ≤ X )** (0.108)"
      ],
      "metadata": {
        "id": "pvKDyNO7Jklg"
      }
    },
    {
      "cell_type": "code",
      "source": [],
      "metadata": {
        "id": "zG2-su0DJqTQ"
      },
      "execution_count": null,
      "outputs": []
    },
    {
      "cell_type": "markdown",
      "source": [
        "**Ejercicio 4.** Un distribuidor de software desea obtener retroalimentación de los clientes acerca de su más reciente paquete. Han adquirido el producto 3000 clientes. Suponer que 600 de ellos están insatisfechos con el producto. Se realiza un muestreo aleatorio e interrogativo de 20 clientes acerca del paquete. Sea $X$ el número de clientes muestreados que están insatisfecho. Calcular:"
      ],
      "metadata": {
        "id": "Hkz4Fb7hJqwa"
      }
    },
    {
      "cell_type": "markdown",
      "source": [
        " **P(X ≤ 3).** (0.4114)"
      ],
      "metadata": {
        "id": "wecB7rOaJ2f-"
      }
    },
    {
      "cell_type": "code",
      "source": [],
      "metadata": {
        "id": "DeJCe9VGJ5Z6"
      },
      "execution_count": null,
      "outputs": []
    }
  ]
}