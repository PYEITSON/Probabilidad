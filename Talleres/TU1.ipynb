{
  "nbformat": 4,
  "nbformat_minor": 0,
  "metadata": {
    "colab": {
      "provenance": [],
      "include_colab_link": true
    },
    "kernelspec": {
      "name": "ir",
      "display_name": "R"
    },
    "language_info": {
      "name": "R"
    }
  },
  "cells": [
    {
      "cell_type": "markdown",
      "metadata": {
        "id": "view-in-github",
        "colab_type": "text"
      },
      "source": [
        "<a href=\"https://colab.research.google.com/github/PYEITSON/Probabilidad/blob/main/Talleres/TU1.ipynb\" target=\"_parent\"><img src=\"https://colab.research.google.com/assets/colab-badge.svg\" alt=\"Open In Colab\"/></a>"
      ]
    },
    {
      "cell_type": "markdown",
      "source": [
        "\n",
        "![](https://github.com/MayraDemoss1/Estadistica/blob/main/baner_taller_r.jpg?raw=true)"
      ],
      "metadata": {
        "id": "Jo_GLbxkzrIj"
      }
    },
    {
      "cell_type": "markdown",
      "source": [
        "###**1. ¿Qué es R?**\n",
        "\n",
        "**R** es un lenguaje de progración y entorno de software libre dedicado a la Estadística.\n",
        "\n",
        "\n",
        "*   Permite dar instrucciones usando código para realizar tareas específicas.\n",
        "*   Solo se requiere un interprete para este código, es decir un entorno o ambiente de trabajo.\n",
        "\n",
        "[Posisción de R en 2020](https://www.tiobe.com/tiobe-index/r/)\n",
        "\n",
        "[Tendecia en la web](https://trends.google.es/trends/explore?geo=MX&q=%2Fm%2F0212jm,%2Fm%2F018fh1,%2Fm%2F08s1kk,%2Fm%2F05vsyc,%2Fm%2F02l0yf8)"
      ],
      "metadata": {
        "id": "bcrj0fuWz-XC"
      }
    },
    {
      "cell_type": "markdown",
      "source": [
        "###**2. Características de R**\n",
        "*   Manejo y almacenamiento efectivo de los datos.\n",
        "*   Un conjunto de operadores para la realización de cálculos con matrices.\n",
        "*   Una gran colección de herramientas para el análisis de datos.\n",
        "*   Utilidades gráficas para la visualización de datos.\n",
        "*   Tiene un formato de documentación basado en LaTeX."
      ],
      "metadata": {
        "id": "dFSty8-N0KDy"
      }
    },
    {
      "cell_type": "markdown",
      "source": [
        "###**3. Uso de R en el análisis de datos**\n",
        "Se utiliza para la **manipulación, procesamiento y visualización gráfica** de los datos.\n",
        "\n",
        "####**R** permite:\n",
        "*  Crear visualizaciones de datos de alta calidad. \n",
        "*  Crear dashboards para visualizar y analizar datos.\n",
        "\n",
        "\n",
        "*   Crear informes automáticos.\n",
        "*   Disponer de herramientas de análisis estadístico."
      ],
      "metadata": {
        "id": "FP3LGAIh0ALT"
      }
    },
    {
      "cell_type": "markdown",
      "source": [
        "###**4. R y colaboratory**\n",
        "\n",
        "Colab también conocido como \"Colaboratory\", permite escribir y ejecutar código **R** con las siguientes ventajas:\n",
        "\n",
        "*   No requiere configuración. \n",
        "*   Permite compartir contenido fácilmente.\n",
        "\n",
        "Se puede escribir texto y código latex.\n"
      ],
      "metadata": {
        "id": "bwc98CsHMO6a"
      }
    },
    {
      "cell_type": "markdown",
      "source": [
        "###**5. R como calculadora**\n",
        "Uno de los usos más básicos de **R** es utilizarlo como calculadora para realizar operaciones básicas.\n",
        "\n",
        "| Operación    |  Simbolo | \n",
        "|:-------------|:--------:|\n",
        "|Suma          | +        | \n",
        "|Resta         | -        |\n",
        "|Multiplicación| *        |\n",
        "|División      |/         |\n",
        "|Potencia      |^         |\n",
        "|Cociente      | %/%      |\n",
        "|Residuo       |%%        |\n",
        "|Logaritmo natural|log()  |\n",
        "|Logaritmo base 10|log10()|\n",
        "|Raíz cuadrada  |sqrt()   |\n",
        "|   $e^x$       |exp()    |"
      ],
      "metadata": {
        "id": "Bl4AiD-y0ZRs"
      }
    },
    {
      "cell_type": "code",
      "source": [
        "# Suma \n",
        "2 + 2\n",
        "\n",
        "# Resta\n",
        "2 - 2\n",
        "\n",
        "# División\n",
        "2 / 2\n",
        "\n",
        "# Raíz cuadrada\n",
        "sqrt(2)"
      ],
      "metadata": {
        "id": "67_BcN7C0i9E",
        "colab": {
          "base_uri": "https://localhost:8080/",
          "height": 86
        },
        "outputId": "10f0c83c-82ea-441f-e8d0-ab8ae1027300"
      },
      "execution_count": null,
      "outputs": [
        {
          "output_type": "display_data",
          "data": {
            "text/html": [
              "4"
            ],
            "text/markdown": "4",
            "text/latex": "4",
            "text/plain": [
              "[1] 4"
            ]
          },
          "metadata": {}
        },
        {
          "output_type": "display_data",
          "data": {
            "text/html": [
              "0"
            ],
            "text/markdown": "0",
            "text/latex": "0",
            "text/plain": [
              "[1] 0"
            ]
          },
          "metadata": {}
        },
        {
          "output_type": "display_data",
          "data": {
            "text/html": [
              "1"
            ],
            "text/markdown": "1",
            "text/latex": "1",
            "text/plain": [
              "[1] 1"
            ]
          },
          "metadata": {}
        },
        {
          "output_type": "display_data",
          "data": {
            "text/html": [
              "1.4142135623731"
            ],
            "text/markdown": "1.4142135623731",
            "text/latex": "1.4142135623731",
            "text/plain": [
              "[1] 1.414214"
            ]
          },
          "metadata": {}
        }
      ]
    },
    {
      "cell_type": "markdown",
      "source": [
        "###**6. Tipos de objetos**\n",
        "\n",
        "**R** es un lenguaje orientado a objetos en los que se pueden guardar valores y modificarse posteriormente mediante el uso de algunas funciones. A continuación se presenta una lista de los tipos de objetos:\n",
        "\n",
        "*   Vectores\n",
        "*   Matrices\n",
        "*   Arreglos\n",
        "*   Dataframes\n",
        "*   Listas"
      ],
      "metadata": {
        "id": "LQNHsj-O0dw-"
      }
    },
    {
      "cell_type": "markdown",
      "source": [
        "###**7. Estadística Descriptiva**\n",
        "\n",
        "Proporciona todos aquellos métodos que permiten describir, resumir y presentar la información. Estos métodos pueden ser tablas, gráficos o procedimientos númericos.\n",
        "\n",
        "En el análisis descriptivo de la información  es importante considerar las seis características de los datos:\n",
        "\n",
        "1. Localización o ubicación\n",
        "2. Dispersión, variabilidad o heterogeneidad\n",
        "3. Distribución de frecuencias o forma de la distribución\n",
        "4. Valores extremos o atípicos (outliers) \n",
        "5. Agrupamientos (clustering)\n",
        "6. Correlación\n",
        "\n",
        " Cada una de estas características permitirá la elección de algunas herramientas o metódos que permitan el anáisis exploratorio de la información."
      ],
      "metadata": {
        "id": "pkygbwdw0t0Y"
      }
    },
    {
      "cell_type": "markdown",
      "source": [
        "###**7.1. ¿Cuánto tiempo pasan en redes sociales los estudiantes ITSON?**\n",
        "###**¿Cuál es el tiempo mínimo?**\n",
        "###**¿Cuál es el tiempo máximo?**\n",
        "a) Descargar el siguiente archivo (se debe guardar con la extensción .csv delimitado por comas).\n",
        "[Datos](https://drive.google.com/file/d/1DzUaOyQCtDqo96npgWbmDLS-AFo74NWo/view?usp=sharing)\n",
        "\n",
        "b)Subir el archivo de excel utilizando el administrador de archivos que se encuentra en el menú del lado izquierdo.\n",
        "\n",
        "\n",
        "c) Utilizar la función:\n",
        "```\n",
        "read.csv('nombre del archivo')\n",
        "```"
      ],
      "metadata": {
        "id": "GqiSMIJr00O-"
      }
    },
    {
      "cell_type": "code",
      "source": [
        "# Crear el objeto \"datos\"\n",
        "datos <- read.csv('tiempo_redes.csv')\n",
        "head(datos)\n",
        "str(datos)"
      ],
      "metadata": {
        "id": "Y-PRKpkl0_mf",
        "colab": {
          "base_uri": "https://localhost:8080/",
          "height": 449
        },
        "outputId": "b0bf51f9-5197-42d6-b738-be1cc145eff1"
      },
      "execution_count": null,
      "outputs": [
        {
          "output_type": "display_data",
          "data": {
            "text/html": [
              "<table class=\"dataframe\">\n",
              "<caption>A data.frame: 6 × 7</caption>\n",
              "<thead>\n",
              "\t<tr><th></th><th scope=col>X</th><th scope=col>Sexo</th><th scope=col>Carrera</th><th scope=col>Tiempo_redes</th><th scope=col>Tiempo_internet</th><th scope=col>Edad</th><th scope=col>Red_preferida</th></tr>\n",
              "\t<tr><th></th><th scope=col>&lt;int&gt;</th><th scope=col>&lt;chr&gt;</th><th scope=col>&lt;chr&gt;</th><th scope=col>&lt;dbl&gt;</th><th scope=col>&lt;dbl&gt;</th><th scope=col>&lt;int&gt;</th><th scope=col>&lt;chr&gt;</th></tr>\n",
              "</thead>\n",
              "<tbody>\n",
              "\t<tr><th scope=row>1</th><td>1</td><td>Mujer </td><td>Licenciatura</td><td>4.6</td><td>7.8</td><td>19</td><td>Instagram</td></tr>\n",
              "\t<tr><th scope=row>2</th><td>2</td><td>Mujer </td><td>Licenciatura</td><td>5.0</td><td>7.9</td><td>20</td><td>Facebook </td></tr>\n",
              "\t<tr><th scope=row>3</th><td>3</td><td>Hombre</td><td>Ingenieria  </td><td>4.8</td><td>7.9</td><td>19</td><td>Facebook </td></tr>\n",
              "\t<tr><th scope=row>4</th><td>4</td><td>Hombre</td><td>Licenciatura</td><td>4.6</td><td>7.8</td><td>20</td><td>Facebook </td></tr>\n",
              "\t<tr><th scope=row>5</th><td>5</td><td>Mujer </td><td>Licenciatura</td><td>5.1</td><td>8.1</td><td>20</td><td>Facebook </td></tr>\n",
              "\t<tr><th scope=row>6</th><td>6</td><td>Hombre</td><td>Licenciatura</td><td>4.1</td><td>7.5</td><td>18</td><td>Facebook </td></tr>\n",
              "</tbody>\n",
              "</table>\n"
            ],
            "text/markdown": "\nA data.frame: 6 × 7\n\n| <!--/--> | X &lt;int&gt; | Sexo &lt;chr&gt; | Carrera &lt;chr&gt; | Tiempo_redes &lt;dbl&gt; | Tiempo_internet &lt;dbl&gt; | Edad &lt;int&gt; | Red_preferida &lt;chr&gt; |\n|---|---|---|---|---|---|---|---|\n| 1 | 1 | Mujer  | Licenciatura | 4.6 | 7.8 | 19 | Instagram |\n| 2 | 2 | Mujer  | Licenciatura | 5.0 | 7.9 | 20 | Facebook  |\n| 3 | 3 | Hombre | Ingenieria   | 4.8 | 7.9 | 19 | Facebook  |\n| 4 | 4 | Hombre | Licenciatura | 4.6 | 7.8 | 20 | Facebook  |\n| 5 | 5 | Mujer  | Licenciatura | 5.1 | 8.1 | 20 | Facebook  |\n| 6 | 6 | Hombre | Licenciatura | 4.1 | 7.5 | 18 | Facebook  |\n\n",
            "text/latex": "A data.frame: 6 × 7\n\\begin{tabular}{r|lllllll}\n  & X & Sexo & Carrera & Tiempo\\_redes & Tiempo\\_internet & Edad & Red\\_preferida\\\\\n  & <int> & <chr> & <chr> & <dbl> & <dbl> & <int> & <chr>\\\\\n\\hline\n\t1 & 1 & Mujer  & Licenciatura & 4.6 & 7.8 & 19 & Instagram\\\\\n\t2 & 2 & Mujer  & Licenciatura & 5.0 & 7.9 & 20 & Facebook \\\\\n\t3 & 3 & Hombre & Ingenieria   & 4.8 & 7.9 & 19 & Facebook \\\\\n\t4 & 4 & Hombre & Licenciatura & 4.6 & 7.8 & 20 & Facebook \\\\\n\t5 & 5 & Mujer  & Licenciatura & 5.1 & 8.1 & 20 & Facebook \\\\\n\t6 & 6 & Hombre & Licenciatura & 4.1 & 7.5 & 18 & Facebook \\\\\n\\end{tabular}\n",
            "text/plain": [
              "  X Sexo   Carrera      Tiempo_redes Tiempo_internet Edad Red_preferida\n",
              "1 1 Mujer  Licenciatura 4.6          7.8             19   Instagram    \n",
              "2 2 Mujer  Licenciatura 5.0          7.9             20   Facebook     \n",
              "3 3 Hombre Ingenieria   4.8          7.9             19   Facebook     \n",
              "4 4 Hombre Licenciatura 4.6          7.8             20   Facebook     \n",
              "5 5 Mujer  Licenciatura 5.1          8.1             20   Facebook     \n",
              "6 6 Hombre Licenciatura 4.1          7.5             18   Facebook     "
            ]
          },
          "metadata": {}
        },
        {
          "output_type": "stream",
          "name": "stdout",
          "text": [
            "'data.frame':\t2000 obs. of  7 variables:\n",
            " $ X              : int  1 2 3 4 5 6 7 8 9 10 ...\n",
            " $ Sexo           : chr  \"Mujer\" \"Mujer\" \"Hombre\" \"Hombre\" ...\n",
            " $ Carrera        : chr  \"Licenciatura\" \"Licenciatura\" \"Ingenieria\" \"Licenciatura\" ...\n",
            " $ Tiempo_redes   : num  4.6 5 4.8 4.6 5.1 4.1 4 5.2 6 5.4 ...\n",
            " $ Tiempo_internet: num  7.8 7.9 7.9 7.8 8.1 7.5 7.1 8.5 8.9 8.8 ...\n",
            " $ Edad           : int  19 20 19 20 20 18 20 19 18 19 ...\n",
            " $ Red_preferida  : chr  \"Instagram\" \"Facebook\" \"Facebook\" \"Facebook\" ...\n"
          ]
        }
      ]
    },
    {
      "cell_type": "code",
      "source": [
        "# Trabajar con las columnas del dataframe\n",
        "datos$Tiempo_redes"
      ],
      "metadata": {
        "id": "bhyj55hsZ7Th",
        "colab": {
          "base_uri": "https://localhost:8080/",
          "height": 364
        },
        "outputId": "cdf51b83-ed9c-4066-d5ed-ef67335f8078"
      },
      "execution_count": null,
      "outputs": [
        {
          "output_type": "display_data",
          "data": {
            "text/html": [
              "<style>\n",
              ".list-inline {list-style: none; margin:0; padding: 0}\n",
              ".list-inline>li {display: inline-block}\n",
              ".list-inline>li:not(:last-child)::after {content: \"\\00b7\"; padding: 0 .5ex}\n",
              "</style>\n",
              "<ol class=list-inline><li>4.6</li><li>5</li><li>4.8</li><li>4.6</li><li>5.1</li><li>4.1</li><li>4</li><li>5.2</li><li>6</li><li>5.4</li><li>5</li><li>5.3</li><li>7.1</li><li>4.8</li><li>5.2</li><li>5.3</li><li>5.4</li><li>5.3</li><li>5.8</li><li>4.9</li><li>6.2</li><li>3.7</li><li>4.4</li><li>3.8</li><li>5</li><li>5.4</li><li>4.4</li><li>7.5</li><li>7.1</li><li>4.5</li><li>5.6</li><li>5.4</li><li>6</li><li>5.2</li><li>5.6</li><li>4.7</li><li>6.5</li><li>5.6</li><li>5.5</li><li>6.5</li><li>4.7</li><li>5.9</li><li>6.7</li><li>5.4</li><li>5.1</li><li>6.2</li><li>4.6</li><li>4.8</li><li>5.6</li><li>6</li><li>6</li><li>6</li><li>6.3</li><li>5.9</li><li>6.5</li><li>5.9</li><li>5.6</li><li>4.4</li><li>6.5</li><li>6.2</li><li>5.4</li><li>5.3</li><li>4.6</li><li>6</li><li>4.5</li><li>4.8</li><li>5.5</li><li>4.2</li><li>4.6</li><li>4.9</li><li>5.2</li><li>5.2</li><li>7.2</li><li>5.1</li><li>6.1</li><li>6.2</li><li>5</li><li>6.5</li><li>3.9</li><li>6.9</li><li>5.5</li><li>4.9</li><li>5</li><li>5.5</li><li>5.7</li><li>5.9</li><li>5.8</li><li>6</li><li>4.3</li><li>4.3</li><li>4.8</li><li>5.5</li><li>7.3</li><li>5.4</li><li>6.3</li><li>6.6</li><li>6.7</li><li>5.4</li><li>4.1</li><li>3.8</li><li>4.6</li><li>6.3</li><li>5.5</li><li>4.5</li><li>5.6</li><li>4.2</li><li>5.4</li><li>5.5</li><li>6.4</li><li>3.9</li><li>4.2</li><li>4.6</li><li>6.2</li><li>5.5</li><li>4.3</li><li>5.2</li><li>6.6</li><li>5.8</li><li>4.8</li><li>4.5</li><li>3.4</li><li>5</li><li>3.1</li><li>5.3</li><li>4.3</li><li>5.2</li><li>6.5</li><li>5.1</li><li>5.4</li><li>3.5</li><li>3.3</li><li>5.7</li><li>6</li><li>6.5</li><li>3.2</li><li>5.1</li><li>4.6</li><li>4.5</li><li>6.6</li><li>5.4</li><li>4.3</li><li>6.2</li><li>2.2</li><li>6.2</li><li>5.5</li><li>4.8</li><li>5.2</li><li>4.9</li><li>4.7</li><li>6</li><li>4.8</li><li>3.6</li><li>4.4</li><li>6.1</li><li>5.2</li><li>5.4</li><li>3.4</li><li>6.3</li><li>5.6</li><li>4.8</li><li>5.7</li><li>4.6</li><li>4.8</li><li>3.9</li><li>5.1</li><li>4.8</li><li>4.6</li><li>5.5</li><li>4.9</li><li>5.6</li><li>5.5</li><li>5</li><li>7.3</li><li>4.1</li><li>4.1</li><li>4.9</li><li>3</li><li>5.4</li><li>4.8</li><li>6.1</li><li>6.1</li><li>4.7</li><li>6.3</li><li>5</li><li>4.5</li><li>6.1</li><li>5.3</li><li>4.5</li><li>5.4</li><li>5.6</li><li>6.5</li><li>4.8</li><li>6.3</li><li>4.7</li><li>5.6</li><li>5.7</li><li>5.4</li><li>5.2</li><li>6</li><li>5.7</li><li>⋯</li><li>6.1</li><li>3</li><li>6.6</li><li>6.6</li><li>4.2</li><li>4.9</li><li>4.3</li><li>6.6</li><li>3.5</li><li>2.8</li><li>4.7</li><li>4.7</li><li>4.3</li><li>6.1</li><li>6</li><li>4.2</li><li>5.2</li><li>7.6</li><li>5.2</li><li>6.3</li><li>5</li><li>6.7</li><li>5.2</li><li>6</li><li>5.5</li><li>5.9</li><li>4.5</li><li>5.4</li><li>3.4</li><li>6.4</li><li>6.6</li><li>5.3</li><li>5.5</li><li>6.2</li><li>3.9</li><li>5.2</li><li>5.6</li><li>5.4</li><li>4.8</li><li>3.8</li><li>4.8</li><li>5.1</li><li>6.6</li><li>5.2</li><li>4.7</li><li>4.8</li><li>4.8</li><li>4.9</li><li>4.8</li><li>4.4</li><li>5.8</li><li>2.7</li><li>6.2</li><li>4.4</li><li>4.5</li><li>5.7</li><li>3.9</li><li>5.7</li><li>3.9</li><li>5.3</li><li>5</li><li>5.9</li><li>5.2</li><li>4.1</li><li>7.3</li><li>4.8</li><li>4.4</li><li>5.1</li><li>5</li><li>5.1</li><li>6.5</li><li>4.7</li><li>4.2</li><li>6.1</li><li>5.4</li><li>6.8</li><li>3.8</li><li>3.6</li><li>5.4</li><li>4.6</li><li>4</li><li>3.8</li><li>5.4</li><li>6.4</li><li>5.3</li><li>4.7</li><li>2.7</li><li>5.4</li><li>4.6</li><li>5.3</li><li>6.4</li><li>3.9</li><li>6.3</li><li>2.8</li><li>5.1</li><li>5.1</li><li>4.7</li><li>4.5</li><li>5.2</li><li>6.2</li><li>6.7</li><li>5.1</li><li>7.9</li><li>5.1</li><li>5.9</li><li>5.2</li><li>4.2</li><li>5.6</li><li>4.2</li><li>7.6</li><li>3.7</li><li>4.3</li><li>6.2</li><li>4.3</li><li>5.9</li><li>5.5</li><li>4.7</li><li>4.8</li><li>6.4</li><li>6.3</li><li>5.5</li><li>6.3</li><li>5.5</li><li>7.1</li><li>6</li><li>5.5</li><li>5.5</li><li>5.9</li><li>4.6</li><li>4.8</li><li>4.1</li><li>5.1</li><li>2.5</li><li>3.9</li><li>5.1</li><li>6.9</li><li>7.1</li><li>5.4</li><li>5.2</li><li>5.4</li><li>5</li><li>4.6</li><li>3.7</li><li>5.4</li><li>4.9</li><li>4.4</li><li>6.3</li><li>4.1</li><li>4.4</li><li>3</li><li>4.4</li><li>5.8</li><li>5.3</li><li>4.3</li><li>5.6</li><li>5.9</li><li>4.7</li><li>5.7</li><li>6.1</li><li>4.6</li><li>5</li><li>6.2</li><li>5.4</li><li>7.7</li><li>3.7</li><li>3.9</li><li>4.9</li><li>6.1</li><li>4.4</li><li>5.5</li><li>6</li><li>4.5</li><li>3.8</li><li>5.1</li><li>6</li><li>3.6</li><li>4.2</li><li>6.2</li><li>6.6</li><li>5.4</li><li>2.5</li><li>2.9</li><li>6.2</li><li>5.6</li><li>5.8</li><li>3.9</li><li>5.1</li><li>5.2</li><li>4.9</li><li>5.7</li><li>4.1</li><li>5.5</li><li>4</li><li>4.3</li><li>5.6</li><li>6.7</li><li>5.1</li><li>4</li><li>5.7</li><li>5.7</li></ol>\n"
            ],
            "text/markdown": "1. 4.6\n2. 5\n3. 4.8\n4. 4.6\n5. 5.1\n6. 4.1\n7. 4\n8. 5.2\n9. 6\n10. 5.4\n11. 5\n12. 5.3\n13. 7.1\n14. 4.8\n15. 5.2\n16. 5.3\n17. 5.4\n18. 5.3\n19. 5.8\n20. 4.9\n21. 6.2\n22. 3.7\n23. 4.4\n24. 3.8\n25. 5\n26. 5.4\n27. 4.4\n28. 7.5\n29. 7.1\n30. 4.5\n31. 5.6\n32. 5.4\n33. 6\n34. 5.2\n35. 5.6\n36. 4.7\n37. 6.5\n38. 5.6\n39. 5.5\n40. 6.5\n41. 4.7\n42. 5.9\n43. 6.7\n44. 5.4\n45. 5.1\n46. 6.2\n47. 4.6\n48. 4.8\n49. 5.6\n50. 6\n51. 6\n52. 6\n53. 6.3\n54. 5.9\n55. 6.5\n56. 5.9\n57. 5.6\n58. 4.4\n59. 6.5\n60. 6.2\n61. 5.4\n62. 5.3\n63. 4.6\n64. 6\n65. 4.5\n66. 4.8\n67. 5.5\n68. 4.2\n69. 4.6\n70. 4.9\n71. 5.2\n72. 5.2\n73. 7.2\n74. 5.1\n75. 6.1\n76. 6.2\n77. 5\n78. 6.5\n79. 3.9\n80. 6.9\n81. 5.5\n82. 4.9\n83. 5\n84. 5.5\n85. 5.7\n86. 5.9\n87. 5.8\n88. 6\n89. 4.3\n90. 4.3\n91. 4.8\n92. 5.5\n93. 7.3\n94. 5.4\n95. 6.3\n96. 6.6\n97. 6.7\n98. 5.4\n99. 4.1\n100. 3.8\n101. 4.6\n102. 6.3\n103. 5.5\n104. 4.5\n105. 5.6\n106. 4.2\n107. 5.4\n108. 5.5\n109. 6.4\n110. 3.9\n111. 4.2\n112. 4.6\n113. 6.2\n114. 5.5\n115. 4.3\n116. 5.2\n117. 6.6\n118. 5.8\n119. 4.8\n120. 4.5\n121. 3.4\n122. 5\n123. 3.1\n124. 5.3\n125. 4.3\n126. 5.2\n127. 6.5\n128. 5.1\n129. 5.4\n130. 3.5\n131. 3.3\n132. 5.7\n133. 6\n134. 6.5\n135. 3.2\n136. 5.1\n137. 4.6\n138. 4.5\n139. 6.6\n140. 5.4\n141. 4.3\n142. 6.2\n143. 2.2\n144. 6.2\n145. 5.5\n146. 4.8\n147. 5.2\n148. 4.9\n149. 4.7\n150. 6\n151. 4.8\n152. 3.6\n153. 4.4\n154. 6.1\n155. 5.2\n156. 5.4\n157. 3.4\n158. 6.3\n159. 5.6\n160. 4.8\n161. 5.7\n162. 4.6\n163. 4.8\n164. 3.9\n165. 5.1\n166. 4.8\n167. 4.6\n168. 5.5\n169. 4.9\n170. 5.6\n171. 5.5\n172. 5\n173. 7.3\n174. 4.1\n175. 4.1\n176. 4.9\n177. 3\n178. 5.4\n179. 4.8\n180. 6.1\n181. 6.1\n182. 4.7\n183. 6.3\n184. 5\n185. 4.5\n186. 6.1\n187. 5.3\n188. 4.5\n189. 5.4\n190. 5.6\n191. 6.5\n192. 4.8\n193. 6.3\n194. 4.7\n195. 5.6\n196. 5.7\n197. 5.4\n198. 5.2\n199. 6\n200. 5.7\n201. ⋯\n202. 6.1\n203. 3\n204. 6.6\n205. 6.6\n206. 4.2\n207. 4.9\n208. 4.3\n209. 6.6\n210. 3.5\n211. 2.8\n212. 4.7\n213. 4.7\n214. 4.3\n215. 6.1\n216. 6\n217. 4.2\n218. 5.2\n219. 7.6\n220. 5.2\n221. 6.3\n222. 5\n223. 6.7\n224. 5.2\n225. 6\n226. 5.5\n227. 5.9\n228. 4.5\n229. 5.4\n230. 3.4\n231. 6.4\n232. 6.6\n233. 5.3\n234. 5.5\n235. 6.2\n236. 3.9\n237. 5.2\n238. 5.6\n239. 5.4\n240. 4.8\n241. 3.8\n242. 4.8\n243. 5.1\n244. 6.6\n245. 5.2\n246. 4.7\n247. 4.8\n248. 4.8\n249. 4.9\n250. 4.8\n251. 4.4\n252. 5.8\n253. 2.7\n254. 6.2\n255. 4.4\n256. 4.5\n257. 5.7\n258. 3.9\n259. 5.7\n260. 3.9\n261. 5.3\n262. 5\n263. 5.9\n264. 5.2\n265. 4.1\n266. 7.3\n267. 4.8\n268. 4.4\n269. 5.1\n270. 5\n271. 5.1\n272. 6.5\n273. 4.7\n274. 4.2\n275. 6.1\n276. 5.4\n277. 6.8\n278. 3.8\n279. 3.6\n280. 5.4\n281. 4.6\n282. 4\n283. 3.8\n284. 5.4\n285. 6.4\n286. 5.3\n287. 4.7\n288. 2.7\n289. 5.4\n290. 4.6\n291. 5.3\n292. 6.4\n293. 3.9\n294. 6.3\n295. 2.8\n296. 5.1\n297. 5.1\n298. 4.7\n299. 4.5\n300. 5.2\n301. 6.2\n302. 6.7\n303. 5.1\n304. 7.9\n305. 5.1\n306. 5.9\n307. 5.2\n308. 4.2\n309. 5.6\n310. 4.2\n311. 7.6\n312. 3.7\n313. 4.3\n314. 6.2\n315. 4.3\n316. 5.9\n317. 5.5\n318. 4.7\n319. 4.8\n320. 6.4\n321. 6.3\n322. 5.5\n323. 6.3\n324. 5.5\n325. 7.1\n326. 6\n327. 5.5\n328. 5.5\n329. 5.9\n330. 4.6\n331. 4.8\n332. 4.1\n333. 5.1\n334. 2.5\n335. 3.9\n336. 5.1\n337. 6.9\n338. 7.1\n339. 5.4\n340. 5.2\n341. 5.4\n342. 5\n343. 4.6\n344. 3.7\n345. 5.4\n346. 4.9\n347. 4.4\n348. 6.3\n349. 4.1\n350. 4.4\n351. 3\n352. 4.4\n353. 5.8\n354. 5.3\n355. 4.3\n356. 5.6\n357. 5.9\n358. 4.7\n359. 5.7\n360. 6.1\n361. 4.6\n362. 5\n363. 6.2\n364. 5.4\n365. 7.7\n366. 3.7\n367. 3.9\n368. 4.9\n369. 6.1\n370. 4.4\n371. 5.5\n372. 6\n373. 4.5\n374. 3.8\n375. 5.1\n376. 6\n377. 3.6\n378. 4.2\n379. 6.2\n380. 6.6\n381. 5.4\n382. 2.5\n383. 2.9\n384. 6.2\n385. 5.6\n386. 5.8\n387. 3.9\n388. 5.1\n389. 5.2\n390. 4.9\n391. 5.7\n392. 4.1\n393. 5.5\n394. 4\n395. 4.3\n396. 5.6\n397. 6.7\n398. 5.1\n399. 4\n400. 5.7\n401. 5.7\n\n\n",
            "text/latex": "\\begin{enumerate*}\n\\item 4.6\n\\item 5\n\\item 4.8\n\\item 4.6\n\\item 5.1\n\\item 4.1\n\\item 4\n\\item 5.2\n\\item 6\n\\item 5.4\n\\item 5\n\\item 5.3\n\\item 7.1\n\\item 4.8\n\\item 5.2\n\\item 5.3\n\\item 5.4\n\\item 5.3\n\\item 5.8\n\\item 4.9\n\\item 6.2\n\\item 3.7\n\\item 4.4\n\\item 3.8\n\\item 5\n\\item 5.4\n\\item 4.4\n\\item 7.5\n\\item 7.1\n\\item 4.5\n\\item 5.6\n\\item 5.4\n\\item 6\n\\item 5.2\n\\item 5.6\n\\item 4.7\n\\item 6.5\n\\item 5.6\n\\item 5.5\n\\item 6.5\n\\item 4.7\n\\item 5.9\n\\item 6.7\n\\item 5.4\n\\item 5.1\n\\item 6.2\n\\item 4.6\n\\item 4.8\n\\item 5.6\n\\item 6\n\\item 6\n\\item 6\n\\item 6.3\n\\item 5.9\n\\item 6.5\n\\item 5.9\n\\item 5.6\n\\item 4.4\n\\item 6.5\n\\item 6.2\n\\item 5.4\n\\item 5.3\n\\item 4.6\n\\item 6\n\\item 4.5\n\\item 4.8\n\\item 5.5\n\\item 4.2\n\\item 4.6\n\\item 4.9\n\\item 5.2\n\\item 5.2\n\\item 7.2\n\\item 5.1\n\\item 6.1\n\\item 6.2\n\\item 5\n\\item 6.5\n\\item 3.9\n\\item 6.9\n\\item 5.5\n\\item 4.9\n\\item 5\n\\item 5.5\n\\item 5.7\n\\item 5.9\n\\item 5.8\n\\item 6\n\\item 4.3\n\\item 4.3\n\\item 4.8\n\\item 5.5\n\\item 7.3\n\\item 5.4\n\\item 6.3\n\\item 6.6\n\\item 6.7\n\\item 5.4\n\\item 4.1\n\\item 3.8\n\\item 4.6\n\\item 6.3\n\\item 5.5\n\\item 4.5\n\\item 5.6\n\\item 4.2\n\\item 5.4\n\\item 5.5\n\\item 6.4\n\\item 3.9\n\\item 4.2\n\\item 4.6\n\\item 6.2\n\\item 5.5\n\\item 4.3\n\\item 5.2\n\\item 6.6\n\\item 5.8\n\\item 4.8\n\\item 4.5\n\\item 3.4\n\\item 5\n\\item 3.1\n\\item 5.3\n\\item 4.3\n\\item 5.2\n\\item 6.5\n\\item 5.1\n\\item 5.4\n\\item 3.5\n\\item 3.3\n\\item 5.7\n\\item 6\n\\item 6.5\n\\item 3.2\n\\item 5.1\n\\item 4.6\n\\item 4.5\n\\item 6.6\n\\item 5.4\n\\item 4.3\n\\item 6.2\n\\item 2.2\n\\item 6.2\n\\item 5.5\n\\item 4.8\n\\item 5.2\n\\item 4.9\n\\item 4.7\n\\item 6\n\\item 4.8\n\\item 3.6\n\\item 4.4\n\\item 6.1\n\\item 5.2\n\\item 5.4\n\\item 3.4\n\\item 6.3\n\\item 5.6\n\\item 4.8\n\\item 5.7\n\\item 4.6\n\\item 4.8\n\\item 3.9\n\\item 5.1\n\\item 4.8\n\\item 4.6\n\\item 5.5\n\\item 4.9\n\\item 5.6\n\\item 5.5\n\\item 5\n\\item 7.3\n\\item 4.1\n\\item 4.1\n\\item 4.9\n\\item 3\n\\item 5.4\n\\item 4.8\n\\item 6.1\n\\item 6.1\n\\item 4.7\n\\item 6.3\n\\item 5\n\\item 4.5\n\\item 6.1\n\\item 5.3\n\\item 4.5\n\\item 5.4\n\\item 5.6\n\\item 6.5\n\\item 4.8\n\\item 6.3\n\\item 4.7\n\\item 5.6\n\\item 5.7\n\\item 5.4\n\\item 5.2\n\\item 6\n\\item 5.7\n\\item ⋯\n\\item 6.1\n\\item 3\n\\item 6.6\n\\item 6.6\n\\item 4.2\n\\item 4.9\n\\item 4.3\n\\item 6.6\n\\item 3.5\n\\item 2.8\n\\item 4.7\n\\item 4.7\n\\item 4.3\n\\item 6.1\n\\item 6\n\\item 4.2\n\\item 5.2\n\\item 7.6\n\\item 5.2\n\\item 6.3\n\\item 5\n\\item 6.7\n\\item 5.2\n\\item 6\n\\item 5.5\n\\item 5.9\n\\item 4.5\n\\item 5.4\n\\item 3.4\n\\item 6.4\n\\item 6.6\n\\item 5.3\n\\item 5.5\n\\item 6.2\n\\item 3.9\n\\item 5.2\n\\item 5.6\n\\item 5.4\n\\item 4.8\n\\item 3.8\n\\item 4.8\n\\item 5.1\n\\item 6.6\n\\item 5.2\n\\item 4.7\n\\item 4.8\n\\item 4.8\n\\item 4.9\n\\item 4.8\n\\item 4.4\n\\item 5.8\n\\item 2.7\n\\item 6.2\n\\item 4.4\n\\item 4.5\n\\item 5.7\n\\item 3.9\n\\item 5.7\n\\item 3.9\n\\item 5.3\n\\item 5\n\\item 5.9\n\\item 5.2\n\\item 4.1\n\\item 7.3\n\\item 4.8\n\\item 4.4\n\\item 5.1\n\\item 5\n\\item 5.1\n\\item 6.5\n\\item 4.7\n\\item 4.2\n\\item 6.1\n\\item 5.4\n\\item 6.8\n\\item 3.8\n\\item 3.6\n\\item 5.4\n\\item 4.6\n\\item 4\n\\item 3.8\n\\item 5.4\n\\item 6.4\n\\item 5.3\n\\item 4.7\n\\item 2.7\n\\item 5.4\n\\item 4.6\n\\item 5.3\n\\item 6.4\n\\item 3.9\n\\item 6.3\n\\item 2.8\n\\item 5.1\n\\item 5.1\n\\item 4.7\n\\item 4.5\n\\item 5.2\n\\item 6.2\n\\item 6.7\n\\item 5.1\n\\item 7.9\n\\item 5.1\n\\item 5.9\n\\item 5.2\n\\item 4.2\n\\item 5.6\n\\item 4.2\n\\item 7.6\n\\item 3.7\n\\item 4.3\n\\item 6.2\n\\item 4.3\n\\item 5.9\n\\item 5.5\n\\item 4.7\n\\item 4.8\n\\item 6.4\n\\item 6.3\n\\item 5.5\n\\item 6.3\n\\item 5.5\n\\item 7.1\n\\item 6\n\\item 5.5\n\\item 5.5\n\\item 5.9\n\\item 4.6\n\\item 4.8\n\\item 4.1\n\\item 5.1\n\\item 2.5\n\\item 3.9\n\\item 5.1\n\\item 6.9\n\\item 7.1\n\\item 5.4\n\\item 5.2\n\\item 5.4\n\\item 5\n\\item 4.6\n\\item 3.7\n\\item 5.4\n\\item 4.9\n\\item 4.4\n\\item 6.3\n\\item 4.1\n\\item 4.4\n\\item 3\n\\item 4.4\n\\item 5.8\n\\item 5.3\n\\item 4.3\n\\item 5.6\n\\item 5.9\n\\item 4.7\n\\item 5.7\n\\item 6.1\n\\item 4.6\n\\item 5\n\\item 6.2\n\\item 5.4\n\\item 7.7\n\\item 3.7\n\\item 3.9\n\\item 4.9\n\\item 6.1\n\\item 4.4\n\\item 5.5\n\\item 6\n\\item 4.5\n\\item 3.8\n\\item 5.1\n\\item 6\n\\item 3.6\n\\item 4.2\n\\item 6.2\n\\item 6.6\n\\item 5.4\n\\item 2.5\n\\item 2.9\n\\item 6.2\n\\item 5.6\n\\item 5.8\n\\item 3.9\n\\item 5.1\n\\item 5.2\n\\item 4.9\n\\item 5.7\n\\item 4.1\n\\item 5.5\n\\item 4\n\\item 4.3\n\\item 5.6\n\\item 6.7\n\\item 5.1\n\\item 4\n\\item 5.7\n\\item 5.7\n\\end{enumerate*}\n",
            "text/plain": [
              "   [1] 4.6 5.0 4.8 4.6 5.1 4.1 4.0 5.2 6.0 5.4 5.0 5.3 7.1 4.8 5.2 5.3 5.4 5.3\n",
              "  [19] 5.8 4.9 6.2 3.7 4.4 3.8 5.0 5.4 4.4 7.5 7.1 4.5 5.6 5.4 6.0 5.2 5.6 4.7\n",
              "  [37] 6.5 5.6 5.5 6.5 4.7 5.9 6.7 5.4 5.1 6.2 4.6 4.8 5.6 6.0 6.0 6.0 6.3 5.9\n",
              "  [55] 6.5 5.9 5.6 4.4 6.5 6.2 5.4 5.3 4.6 6.0 4.5 4.8 5.5 4.2 4.6 4.9 5.2 5.2\n",
              "  [73] 7.2 5.1 6.1 6.2 5.0 6.5 3.9 6.9 5.5 4.9 5.0 5.5 5.7 5.9 5.8 6.0 4.3 4.3\n",
              "  [91] 4.8 5.5 7.3 5.4 6.3 6.6 6.7 5.4 4.1 3.8 4.6 6.3 5.5 4.5 5.6 4.2 5.4 5.5\n",
              " [109] 6.4 3.9 4.2 4.6 6.2 5.5 4.3 5.2 6.6 5.8 4.8 4.5 3.4 5.0 3.1 5.3 4.3 5.2\n",
              " [127] 6.5 5.1 5.4 3.5 3.3 5.7 6.0 6.5 3.2 5.1 4.6 4.5 6.6 5.4 4.3 6.2 2.2 6.2\n",
              " [145] 5.5 4.8 5.2 4.9 4.7 6.0 4.8 3.6 4.4 6.1 5.2 5.4 3.4 6.3 5.6 4.8 5.7 4.6\n",
              " [163] 4.8 3.9 5.1 4.8 4.6 5.5 4.9 5.6 5.5 5.0 7.3 4.1 4.1 4.9 3.0 5.4 4.8 6.1\n",
              " [181] 6.1 4.7 6.3 5.0 4.5 6.1 5.3 4.5 5.4 5.6 6.5 4.8 6.3 4.7 5.6 5.7 5.4 5.2\n",
              " [199] 6.0 5.7 6.5 4.3 4.8 4.4 5.8 7.1 4.8 6.0 4.2 6.4 4.8 7.5 4.1 7.3 5.6 5.3\n",
              " [217] 4.2 5.4 5.0 4.4 5.3 4.0 5.5 3.8 3.6 6.2 5.0 5.2 4.8 5.0 5.0 4.8 5.3 6.1\n",
              " [235] 3.1 4.0 5.0 6.7 5.8 6.9 6.0 6.5 4.1 4.5 6.1 3.6 6.6 3.5 5.6 2.3 4.8 6.1\n",
              " [253] 5.7 6.9 6.5 3.1 6.9 5.5 7.1 5.4 5.1 3.9 4.6 5.1 5.6 5.0 5.6 3.7 6.1 4.8\n",
              " [271] 4.9 5.5 4.7 7.1 7.1 5.5 6.1 3.6 4.3 4.3 4.9 5.7 5.3 5.4 5.9 4.6 5.6 5.9\n",
              " [289] 4.1 6.1 6.1 4.8 5.8 7.8 5.9 6.9 4.8 5.0 4.5 3.5 5.5 4.3 4.2 6.6 6.0 4.9\n",
              " [307] 6.0 6.0 4.4 5.9 2.9 7.3 5.0 4.0 4.3 4.1 7.3 5.7 5.0 5.9 3.4 6.9 6.9 5.6\n",
              " [325] 5.7 6.1 5.9 6.6 4.6 5.9 5.1 4.9 3.7 4.1 6.5 3.8 4.2 5.9 6.6 4.3 4.1 5.9\n",
              " [343] 5.4 6.5 4.5 5.4 4.9 3.8 4.6 3.6 5.0 5.9 4.3 8.5 6.3 6.2 4.5 3.6 5.9 5.1\n",
              " [361] 5.8 5.4 3.8 5.5 5.2 5.1 5.4 5.8 6.0 6.3 6.6 6.9 5.7 4.4 4.5 5.9 6.1 4.7\n",
              " [379] 6.3 3.8 5.2 6.4 6.3 6.6 6.2 3.6 4.5 4.4 4.7 5.6 4.4 5.1 6.0 4.3 4.9 6.8\n",
              " [397] 5.1 5.9 6.0 4.6 5.7 3.5 6.6 4.7 5.4 5.3 4.9 7.7 4.1 6.4 6.6 4.6 5.2 3.4\n",
              " [415] 6.0 6.1 5.2 6.2 5.6 5.7 5.9 3.9 5.1 4.4 5.6 4.5 5.2 3.8 5.3 4.1 6.2 4.0\n",
              " [433] 5.2 4.7 5.5 6.7 6.0 7.2 6.5 4.2 5.6 5.7 5.7 4.5 4.5 4.9 5.0 4.2 5.5 4.7\n",
              " [451] 4.3 2.9 5.1 5.4 4.2 5.1 4.4 6.5 5.9 5.2 7.2 4.6 5.2 4.5 3.2 4.6 4.8 4.6\n",
              " [469] 4.3 5.7 4.0 6.4 5.0 5.0 5.4 5.3 5.0 6.2 5.3 6.3 5.1 6.7 4.1 6.0 5.5 5.6\n",
              " [487] 5.8 6.5 5.6 5.0 5.2 4.3 4.7 4.2 5.6 4.8 4.1 4.8 4.7 4.1 5.4 4.8 5.9 5.9\n",
              " [505] 5.4 5.6 4.4 6.7 4.4 5.4 6.3 5.0 3.5 4.7 5.5 4.8 4.5 6.4 5.4 5.0 4.8 5.0\n",
              " [523] 6.2 4.5 6.9 5.0 6.0 5.6 5.3 4.4 7.4 4.8 4.8 6.1 7.2 5.5 5.5 5.3 4.8 5.0\n",
              " [541] 4.2 5.5 5.3 6.6 6.1 4.8 5.7 5.1 3.8 6.8 4.8 5.6 4.8 4.1 4.8 6.1 5.6 5.3\n",
              " [559] 6.9 6.3 5.3 5.5 5.8 5.8 4.8 5.8 4.7 4.8 4.3 6.3 5.3 5.5 5.3 5.0 4.2 3.9\n",
              " [577] 5.0 4.3 5.1 5.2 6.2 5.6 7.2 5.5 5.0 6.1 6.0 3.5 5.2 4.6 6.3 6.1 4.3 5.7\n",
              " [595] 4.0 4.6 6.4 6.3 5.1 7.1 6.4 5.3 5.4 5.6 5.9 3.9 5.1 3.7 5.6 4.4 4.4 4.1\n",
              " [613] 5.5 5.4 4.7 3.6 6.0 3.9 4.1 4.7 4.9 6.8 4.5 4.7 4.6 5.9 5.8 5.4 4.8 5.5\n",
              " [631] 3.3 4.9 5.4 4.0 4.4 7.3 3.3 5.5 6.3 3.1 5.6 4.3 4.7 5.9 5.8 5.8 4.5 6.5\n",
              " [649] 4.3 4.6 3.2 6.4 5.4 3.6 3.2 4.9 5.1 3.5 4.2 6.4 5.9 5.2 5.1 3.1 3.1 5.2\n",
              " [667] 3.1 7.0 4.4 4.3 6.0 5.3 6.2 5.5 4.9 6.1 5.8 3.2 4.2 4.7 3.2 2.6 4.8 4.9\n",
              " [685] 6.9 5.5 6.0 5.2 3.7 6.1 5.3 5.4 6.5 5.4 5.1 7.0 4.6 3.9 6.4 5.0 5.5 4.4\n",
              " [703] 5.1 4.8 6.7 4.7 4.2 5.6 5.0 5.9 6.3 6.6 5.4 4.1 4.5 7.3 5.0 4.6 5.1 6.2\n",
              " [721] 7.1 4.6 3.9 4.7 6.0 4.7 3.8 5.7 4.0 4.5 5.4 4.2 4.5 5.6 5.6 5.5 4.9 6.0\n",
              " [739] 5.3 5.3 4.2 6.3 4.9 6.4 5.3 5.3 4.0 4.3 4.2 6.3 5.4 5.1 4.8 4.4 4.4 4.2\n",
              " [757] 6.1 5.8 6.8 6.4 5.1 6.1 5.5 3.7 6.8 4.4 5.1 4.4 6.4 5.9 4.5 6.3 5.2 5.4\n",
              " [775] 5.2 4.0 2.4 3.6 5.9 4.7 3.8 5.2 5.3 4.8 3.7 5.0 7.5 4.4 5.4 5.2 3.4 4.1\n",
              " [793] 4.8 4.3 4.0 4.9 4.7 5.5 4.8 7.5 3.5 5.7 5.3 5.1 5.5 4.6 4.1 4.5 5.4 5.6\n",
              " [811] 4.6 4.5 4.2 5.6 4.4 5.3 4.5 4.5 4.7 5.4 3.7 5.3 4.9 4.3 4.3 5.6 6.9 4.6\n",
              " [829] 4.8 5.7 4.8 6.0 6.7 5.4 5.0 5.7 5.5 4.6 5.4 5.0 4.9 3.9 6.3 7.5 6.7 5.6\n",
              " [847] 5.3 3.7 5.8 5.6 5.6 5.8 2.3 5.7 5.1 6.2 4.8 3.8 6.2 5.5 5.5 5.0 5.6 5.5\n",
              " [865] 6.0 6.9 6.8 5.6 4.6 4.6 5.5 4.7 5.1 6.4 4.9 5.9 5.0 5.1 4.5 6.0 3.2 5.5\n",
              " [883] 6.2 4.7 4.8 5.7 4.8 4.7 5.9 2.6 5.6 3.9 5.0 6.9 5.7 5.0 7.4 4.0 5.2 6.0\n",
              " [901] 4.1 5.1 5.8 4.1 5.3 4.7 5.8 6.6 4.9 5.1 5.0 5.2 6.5 4.1 5.7 5.4 4.3 5.7\n",
              " [919] 6.8 3.6 5.7 5.2 4.8 6.2 5.8 5.8 5.1 4.8 6.0 5.7 5.2 3.3 5.0 7.2 5.3 6.5\n",
              " [937] 3.5 4.6 6.9 4.5 4.7 4.6 5.9 3.4 2.1 4.5 4.4 6.0 5.5 6.2 4.8 3.4 5.7 4.4\n",
              " [955] 6.6 4.7 4.1 5.6 5.3 6.6 4.0 5.9 6.3 4.1 5.0 4.7 5.6 6.5 4.7 3.8 6.0 5.2\n",
              " [973] 4.6 3.3 4.2 6.4 4.8 4.6 4.7 7.2 5.0 3.6 3.3 5.0 4.2 4.2 5.3 5.5 5.7 5.1\n",
              " [991] 4.5 3.8 6.7 5.4 5.9 6.9 5.3 6.2 4.7 3.6 5.1 6.1 5.4 5.5 4.3 6.7 4.8 4.8\n",
              "[1009] 5.8 6.4 6.2 4.7 6.2 6.9 5.7 5.3 5.0 5.4 6.0 3.9 5.1 5.1 7.0 4.1 5.3 5.6\n",
              "[1027] 3.7 5.1 3.9 4.5 4.4 5.2 6.6 3.9 5.0 4.7 7.3 6.6 5.9 6.3 3.8 4.7 5.8 6.0\n",
              "[1045] 4.4 5.6 3.8 3.8 5.1 6.8 4.3 5.5 4.7 4.7 4.1 7.3 5.5 6.6 3.3 5.4 6.5 4.3\n",
              "[1063] 5.2 3.9 6.1 3.7 4.9 4.4 5.5 7.0 5.6 4.3 5.0 5.3 3.7 5.3 5.3 5.1 4.0 5.2\n",
              "[1081] 4.9 5.6 5.3 4.0 6.4 4.8 4.1 5.0 5.0 5.3 2.2 3.9 5.5 4.0 4.7 5.7 4.4 5.5\n",
              "[1099] 5.7 5.6 3.6 5.2 3.6 6.0 5.2 4.7 4.4 4.8 6.3 6.6 5.9 5.8 4.8 5.7 4.9 5.4\n",
              "[1117] 5.2 5.0 6.6 5.9 4.6 5.6 5.1 5.4 6.0 5.1 3.3 6.1 4.0 5.4 4.4 7.8 5.8 4.8\n",
              "[1135] 5.0 4.4 5.0 5.2 5.8 5.2 6.2 3.7 5.8 4.3 5.6 6.8 4.1 4.3 5.8 5.4 5.0 6.3\n",
              "[1153] 6.6 4.9 4.3 5.3 5.1 4.2 4.1 7.2 6.8 4.9 3.4 5.7 4.1 4.7 4.3 5.6 7.2 4.6\n",
              "[1171] 4.7 4.3 4.9 5.3 4.1 5.7 4.2 4.8 2.6 4.1 6.9 5.7 5.3 4.9 5.6 3.9 5.0 4.9\n",
              "[1189] 5.3 6.9 5.9 5.6 4.7 6.6 4.8 6.0 5.5 6.1 4.3 5.4 6.7 4.5 5.3 3.6 3.9 3.9\n",
              "[1207] 5.8 6.2 7.4 3.4 6.0 6.3 6.4 5.7 4.8 3.4 5.5 2.8 4.1 5.3 4.3 5.0 5.3 6.2\n",
              "[1225] 5.1 6.7 5.3 3.4 5.6 6.2 6.6 4.4 5.6 4.1 5.6 4.0 6.5 6.2 6.2 6.6 6.0 5.3\n",
              "[1243] 5.1 6.2 6.6 3.8 4.4 4.4 4.8 4.8 5.2 5.6 4.7 6.7 5.1 4.8 2.5 5.4 6.2 4.4\n",
              "[1261] 5.6 3.8 5.0 4.1 3.6 4.0 4.8 3.0 4.4 6.2 3.7 5.5 4.8 5.9 5.9 7.0 4.8 6.2\n",
              "[1279] 3.4 5.2 4.5 5.6 4.3 4.9 5.4 6.3 7.2 4.6 5.2 4.8 6.3 4.6 5.5 5.9 5.0 7.4\n",
              "[1297] 5.4 3.0 6.5 4.9 6.5 4.4 4.4 5.4 5.2 3.8 4.0 5.3 4.8 6.0 4.0 5.0 3.5 5.9\n",
              "[1315] 4.0 6.5 4.6 5.8 5.6 3.3 6.4 4.6 5.6 6.9 5.8 5.9 5.8 7.0 5.4 5.6 5.1 5.1\n",
              "[1333] 6.2 4.3 5.1 5.7 4.0 7.4 4.4 6.3 4.0 6.3 6.9 5.4 5.5 5.8 6.5 4.8 5.8 3.9\n",
              "[1351] 5.3 4.3 5.1 6.1 3.8 3.3 4.6 4.1 6.7 5.1 6.0 5.0 5.4 4.5 7.7 5.3 5.3 4.7\n",
              "[1369] 5.3 6.2 6.5 5.9 3.6 5.0 5.5 6.6 4.7 3.4 4.7 5.2 3.8 6.6 6.8 4.9 4.5 5.5\n",
              "[1387] 5.1 6.2 3.2 6.6 7.2 3.6 5.4 5.2 5.8 5.7 6.5 5.7 6.4 5.2 5.0 3.2 4.8 4.7\n",
              "[1405] 5.0 6.3 5.4 5.1 5.7 3.5 7.0 5.2 6.5 4.4 6.1 3.0 6.8 4.1 4.8 6.2 5.6 4.2\n",
              "[1423] 5.6 4.1 4.1 5.3 5.7 6.1 6.0 3.7 5.6 4.3 5.9 5.1 4.3 4.9 6.2 4.9 5.9 4.6\n",
              "[1441] 4.7 5.6 6.3 7.1 5.3 4.0 6.3 4.3 6.6 6.0 5.2 5.1 6.7 5.9 4.0 6.1 6.7 4.9\n",
              "[1459] 6.9 5.0 5.7 6.0 5.2 6.6 5.0 5.1 7.1 2.9 5.3 5.8 6.0 4.3 5.4 5.0 5.8 3.1\n",
              "[1477] 4.3 5.4 7.3 4.9 5.5 4.2 3.0 4.5 5.9 5.8 4.6 3.7 4.5 4.3 5.6 6.2 3.4 5.5\n",
              "[1495] 4.8 4.9 6.3 3.8 4.6 4.2 6.3 4.6 5.2 6.9 5.0 4.1 4.3 4.3 4.5 4.4 6.0 5.8\n",
              "[1513] 7.7 5.7 4.4 4.6 5.2 4.9 5.7 5.3 4.9 5.5 7.8 5.3 4.8 6.7 6.7 5.0 5.4 6.4\n",
              "[1531] 4.8 4.8 5.2 5.7 6.8 4.0 5.3 5.5 5.0 5.3 6.4 4.2 6.0 6.2 6.1 5.6 3.3 5.1\n",
              "[1549] 4.7 5.2 4.7 3.7 3.2 4.3 6.4 6.5 4.6 4.4 5.4 5.4 5.9 4.7 7.1 5.6 5.3 4.2\n",
              "[1567] 5.5 6.1 6.0 4.9 4.7 6.8 5.4 3.4 5.6 4.2 4.4 5.9 5.6 5.3 5.5 5.4 4.6 6.7\n",
              "[1585] 5.8 6.7 7.1 4.8 5.3 7.3 3.9 6.4 5.0 5.7 3.1 5.2 3.6 2.0 4.7 6.0 6.4 4.0\n",
              "[1603] 3.7 4.0 5.9 7.1 5.7 5.7 6.5 5.7 4.5 4.1 6.0 5.3 5.2 5.7 4.3 4.8 5.9 5.2\n",
              "[1621] 4.6 4.0 5.0 4.4 5.3 5.9 6.8 4.3 5.6 4.8 5.6 5.2 6.1 5.8 3.1 5.2 7.8 4.1\n",
              "[1639] 4.1 6.6 4.1 5.6 3.7 3.9 5.1 6.7 6.3 4.9 5.7 5.3 6.0 6.3 4.8 5.4 5.5 7.6\n",
              "[1657] 5.3 6.0 6.4 6.6 6.5 4.2 4.2 4.6 6.6 5.3 5.8 6.6 4.8 5.3 2.8 5.1 5.6 5.2\n",
              "[1675] 6.1 4.1 3.6 4.2 5.7 4.7 4.5 6.5 4.9 5.9 5.5 4.6 7.8 5.7 6.6 1.4 5.4 5.2\n",
              "[1693] 6.9 5.5 5.0 5.5 4.6 5.8 5.2 5.8 6.5 5.0 6.7 6.0 6.7 4.9 4.3 5.5 4.1 5.5\n",
              "[1711] 2.8 4.8 4.8 4.7 6.9 3.1 5.0 5.9 6.6 6.4 4.0 5.2 4.0 6.1 3.9 5.1 5.4 4.5\n",
              "[1729] 4.3 3.9 6.6 6.0 6.2 4.2 4.3 4.1 6.6 4.8 4.6 4.8 5.8 5.5 4.8 6.1 2.7 7.4\n",
              "[1747] 5.3 6.5 5.8 5.3 3.8 6.3 6.7 4.7 4.9 3.4 3.6 5.6 4.1 4.4 5.9 5.6 4.9 4.2\n",
              "[1765] 5.4 4.6 5.0 4.9 5.1 5.6 5.5 4.8 6.1 3.4 6.0 5.9 4.0 5.3 4.2 4.0 5.4 4.0\n",
              "[1783] 4.9 4.6 4.8 2.6 6.1 7.1 4.6 5.2 5.6 5.8 3.4 5.2 6.1 6.2 5.8 4.3 5.1 6.1\n",
              "[1801] 6.1 3.0 6.6 6.6 4.2 4.9 4.3 6.6 3.5 2.8 4.7 4.7 4.3 6.1 6.0 4.2 5.2 7.6\n",
              "[1819] 5.2 6.3 5.0 6.7 5.2 6.0 5.5 5.9 4.5 5.4 3.4 6.4 6.6 5.3 5.5 6.2 3.9 5.2\n",
              "[1837] 5.6 5.4 4.8 3.8 4.8 5.1 6.6 5.2 4.7 4.8 4.8 4.9 4.8 4.4 5.8 2.7 6.2 4.4\n",
              "[1855] 4.5 5.7 3.9 5.7 3.9 5.3 5.0 5.9 5.2 4.1 7.3 4.8 4.4 5.1 5.0 5.1 6.5 4.7\n",
              "[1873] 4.2 6.1 5.4 6.8 3.8 3.6 5.4 4.6 4.0 3.8 5.4 6.4 5.3 4.7 2.7 5.4 4.6 5.3\n",
              "[1891] 6.4 3.9 6.3 2.8 5.1 5.1 4.7 4.5 5.2 6.2 6.7 5.1 7.9 5.1 5.9 5.2 4.2 5.6\n",
              "[1909] 4.2 7.6 3.7 4.3 6.2 4.3 5.9 5.5 4.7 4.8 6.4 6.3 5.5 6.3 5.5 7.1 6.0 5.5\n",
              "[1927] 5.5 5.9 4.6 4.8 4.1 5.1 2.5 3.9 5.1 6.9 7.1 5.4 5.2 5.4 5.0 4.6 3.7 5.4\n",
              "[1945] 4.9 4.4 6.3 4.1 4.4 3.0 4.4 5.8 5.3 4.3 5.6 5.9 4.7 5.7 6.1 4.6 5.0 6.2\n",
              "[1963] 5.4 7.7 3.7 3.9 4.9 6.1 4.4 5.5 6.0 4.5 3.8 5.1 6.0 3.6 4.2 6.2 6.6 5.4\n",
              "[1981] 2.5 2.9 6.2 5.6 5.8 3.9 5.1 5.2 4.9 5.7 4.1 5.5 4.0 4.3 5.6 6.7 5.1 4.0\n",
              "[1999] 5.7 5.7"
            ]
          },
          "metadata": {}
        }
      ]
    },
    {
      "cell_type": "code",
      "source": [
        "# Crear el vector \"tiempo_redes\"\n",
        "tiempo_redes <- datos$Tiempo_redes\n",
        "tiempo_redes"
      ],
      "metadata": {
        "colab": {
          "base_uri": "https://localhost:8080/",
          "height": 364
        },
        "id": "3wd4Uq6Cl_xD",
        "outputId": "995b0404-dbf6-4654-e091-242e66945f89"
      },
      "execution_count": null,
      "outputs": [
        {
          "output_type": "display_data",
          "data": {
            "text/html": [
              "<style>\n",
              ".list-inline {list-style: none; margin:0; padding: 0}\n",
              ".list-inline>li {display: inline-block}\n",
              ".list-inline>li:not(:last-child)::after {content: \"\\00b7\"; padding: 0 .5ex}\n",
              "</style>\n",
              "<ol class=list-inline><li>4.6</li><li>5</li><li>4.8</li><li>4.6</li><li>5.1</li><li>4.1</li><li>4</li><li>5.2</li><li>6</li><li>5.4</li><li>5</li><li>5.3</li><li>7.1</li><li>4.8</li><li>5.2</li><li>5.3</li><li>5.4</li><li>5.3</li><li>5.8</li><li>4.9</li><li>6.2</li><li>3.7</li><li>4.4</li><li>3.8</li><li>5</li><li>5.4</li><li>4.4</li><li>7.5</li><li>7.1</li><li>4.5</li><li>5.6</li><li>5.4</li><li>6</li><li>5.2</li><li>5.6</li><li>4.7</li><li>6.5</li><li>5.6</li><li>5.5</li><li>6.5</li><li>4.7</li><li>5.9</li><li>6.7</li><li>5.4</li><li>5.1</li><li>6.2</li><li>4.6</li><li>4.8</li><li>5.6</li><li>6</li><li>6</li><li>6</li><li>6.3</li><li>5.9</li><li>6.5</li><li>5.9</li><li>5.6</li><li>4.4</li><li>6.5</li><li>6.2</li><li>5.4</li><li>5.3</li><li>4.6</li><li>6</li><li>4.5</li><li>4.8</li><li>5.5</li><li>4.2</li><li>4.6</li><li>4.9</li><li>5.2</li><li>5.2</li><li>7.2</li><li>5.1</li><li>6.1</li><li>6.2</li><li>5</li><li>6.5</li><li>3.9</li><li>6.9</li><li>5.5</li><li>4.9</li><li>5</li><li>5.5</li><li>5.7</li><li>5.9</li><li>5.8</li><li>6</li><li>4.3</li><li>4.3</li><li>4.8</li><li>5.5</li><li>7.3</li><li>5.4</li><li>6.3</li><li>6.6</li><li>6.7</li><li>5.4</li><li>4.1</li><li>3.8</li><li>4.6</li><li>6.3</li><li>5.5</li><li>4.5</li><li>5.6</li><li>4.2</li><li>5.4</li><li>5.5</li><li>6.4</li><li>3.9</li><li>4.2</li><li>4.6</li><li>6.2</li><li>5.5</li><li>4.3</li><li>5.2</li><li>6.6</li><li>5.8</li><li>4.8</li><li>4.5</li><li>3.4</li><li>5</li><li>3.1</li><li>5.3</li><li>4.3</li><li>5.2</li><li>6.5</li><li>5.1</li><li>5.4</li><li>3.5</li><li>3.3</li><li>5.7</li><li>6</li><li>6.5</li><li>3.2</li><li>5.1</li><li>4.6</li><li>4.5</li><li>6.6</li><li>5.4</li><li>4.3</li><li>6.2</li><li>2.2</li><li>6.2</li><li>5.5</li><li>4.8</li><li>5.2</li><li>4.9</li><li>4.7</li><li>6</li><li>4.8</li><li>3.6</li><li>4.4</li><li>6.1</li><li>5.2</li><li>5.4</li><li>3.4</li><li>6.3</li><li>5.6</li><li>4.8</li><li>5.7</li><li>4.6</li><li>4.8</li><li>3.9</li><li>5.1</li><li>4.8</li><li>4.6</li><li>5.5</li><li>4.9</li><li>5.6</li><li>5.5</li><li>5</li><li>7.3</li><li>4.1</li><li>4.1</li><li>4.9</li><li>3</li><li>5.4</li><li>4.8</li><li>6.1</li><li>6.1</li><li>4.7</li><li>6.3</li><li>5</li><li>4.5</li><li>6.1</li><li>5.3</li><li>4.5</li><li>5.4</li><li>5.6</li><li>6.5</li><li>4.8</li><li>6.3</li><li>4.7</li><li>5.6</li><li>5.7</li><li>5.4</li><li>5.2</li><li>6</li><li>5.7</li><li>⋯</li><li>6.1</li><li>3</li><li>6.6</li><li>6.6</li><li>4.2</li><li>4.9</li><li>4.3</li><li>6.6</li><li>3.5</li><li>2.8</li><li>4.7</li><li>4.7</li><li>4.3</li><li>6.1</li><li>6</li><li>4.2</li><li>5.2</li><li>7.6</li><li>5.2</li><li>6.3</li><li>5</li><li>6.7</li><li>5.2</li><li>6</li><li>5.5</li><li>5.9</li><li>4.5</li><li>5.4</li><li>3.4</li><li>6.4</li><li>6.6</li><li>5.3</li><li>5.5</li><li>6.2</li><li>3.9</li><li>5.2</li><li>5.6</li><li>5.4</li><li>4.8</li><li>3.8</li><li>4.8</li><li>5.1</li><li>6.6</li><li>5.2</li><li>4.7</li><li>4.8</li><li>4.8</li><li>4.9</li><li>4.8</li><li>4.4</li><li>5.8</li><li>2.7</li><li>6.2</li><li>4.4</li><li>4.5</li><li>5.7</li><li>3.9</li><li>5.7</li><li>3.9</li><li>5.3</li><li>5</li><li>5.9</li><li>5.2</li><li>4.1</li><li>7.3</li><li>4.8</li><li>4.4</li><li>5.1</li><li>5</li><li>5.1</li><li>6.5</li><li>4.7</li><li>4.2</li><li>6.1</li><li>5.4</li><li>6.8</li><li>3.8</li><li>3.6</li><li>5.4</li><li>4.6</li><li>4</li><li>3.8</li><li>5.4</li><li>6.4</li><li>5.3</li><li>4.7</li><li>2.7</li><li>5.4</li><li>4.6</li><li>5.3</li><li>6.4</li><li>3.9</li><li>6.3</li><li>2.8</li><li>5.1</li><li>5.1</li><li>4.7</li><li>4.5</li><li>5.2</li><li>6.2</li><li>6.7</li><li>5.1</li><li>7.9</li><li>5.1</li><li>5.9</li><li>5.2</li><li>4.2</li><li>5.6</li><li>4.2</li><li>7.6</li><li>3.7</li><li>4.3</li><li>6.2</li><li>4.3</li><li>5.9</li><li>5.5</li><li>4.7</li><li>4.8</li><li>6.4</li><li>6.3</li><li>5.5</li><li>6.3</li><li>5.5</li><li>7.1</li><li>6</li><li>5.5</li><li>5.5</li><li>5.9</li><li>4.6</li><li>4.8</li><li>4.1</li><li>5.1</li><li>2.5</li><li>3.9</li><li>5.1</li><li>6.9</li><li>7.1</li><li>5.4</li><li>5.2</li><li>5.4</li><li>5</li><li>4.6</li><li>3.7</li><li>5.4</li><li>4.9</li><li>4.4</li><li>6.3</li><li>4.1</li><li>4.4</li><li>3</li><li>4.4</li><li>5.8</li><li>5.3</li><li>4.3</li><li>5.6</li><li>5.9</li><li>4.7</li><li>5.7</li><li>6.1</li><li>4.6</li><li>5</li><li>6.2</li><li>5.4</li><li>7.7</li><li>3.7</li><li>3.9</li><li>4.9</li><li>6.1</li><li>4.4</li><li>5.5</li><li>6</li><li>4.5</li><li>3.8</li><li>5.1</li><li>6</li><li>3.6</li><li>4.2</li><li>6.2</li><li>6.6</li><li>5.4</li><li>2.5</li><li>2.9</li><li>6.2</li><li>5.6</li><li>5.8</li><li>3.9</li><li>5.1</li><li>5.2</li><li>4.9</li><li>5.7</li><li>4.1</li><li>5.5</li><li>4</li><li>4.3</li><li>5.6</li><li>6.7</li><li>5.1</li><li>4</li><li>5.7</li><li>5.7</li></ol>\n"
            ],
            "text/markdown": "1. 4.6\n2. 5\n3. 4.8\n4. 4.6\n5. 5.1\n6. 4.1\n7. 4\n8. 5.2\n9. 6\n10. 5.4\n11. 5\n12. 5.3\n13. 7.1\n14. 4.8\n15. 5.2\n16. 5.3\n17. 5.4\n18. 5.3\n19. 5.8\n20. 4.9\n21. 6.2\n22. 3.7\n23. 4.4\n24. 3.8\n25. 5\n26. 5.4\n27. 4.4\n28. 7.5\n29. 7.1\n30. 4.5\n31. 5.6\n32. 5.4\n33. 6\n34. 5.2\n35. 5.6\n36. 4.7\n37. 6.5\n38. 5.6\n39. 5.5\n40. 6.5\n41. 4.7\n42. 5.9\n43. 6.7\n44. 5.4\n45. 5.1\n46. 6.2\n47. 4.6\n48. 4.8\n49. 5.6\n50. 6\n51. 6\n52. 6\n53. 6.3\n54. 5.9\n55. 6.5\n56. 5.9\n57. 5.6\n58. 4.4\n59. 6.5\n60. 6.2\n61. 5.4\n62. 5.3\n63. 4.6\n64. 6\n65. 4.5\n66. 4.8\n67. 5.5\n68. 4.2\n69. 4.6\n70. 4.9\n71. 5.2\n72. 5.2\n73. 7.2\n74. 5.1\n75. 6.1\n76. 6.2\n77. 5\n78. 6.5\n79. 3.9\n80. 6.9\n81. 5.5\n82. 4.9\n83. 5\n84. 5.5\n85. 5.7\n86. 5.9\n87. 5.8\n88. 6\n89. 4.3\n90. 4.3\n91. 4.8\n92. 5.5\n93. 7.3\n94. 5.4\n95. 6.3\n96. 6.6\n97. 6.7\n98. 5.4\n99. 4.1\n100. 3.8\n101. 4.6\n102. 6.3\n103. 5.5\n104. 4.5\n105. 5.6\n106. 4.2\n107. 5.4\n108. 5.5\n109. 6.4\n110. 3.9\n111. 4.2\n112. 4.6\n113. 6.2\n114. 5.5\n115. 4.3\n116. 5.2\n117. 6.6\n118. 5.8\n119. 4.8\n120. 4.5\n121. 3.4\n122. 5\n123. 3.1\n124. 5.3\n125. 4.3\n126. 5.2\n127. 6.5\n128. 5.1\n129. 5.4\n130. 3.5\n131. 3.3\n132. 5.7\n133. 6\n134. 6.5\n135. 3.2\n136. 5.1\n137. 4.6\n138. 4.5\n139. 6.6\n140. 5.4\n141. 4.3\n142. 6.2\n143. 2.2\n144. 6.2\n145. 5.5\n146. 4.8\n147. 5.2\n148. 4.9\n149. 4.7\n150. 6\n151. 4.8\n152. 3.6\n153. 4.4\n154. 6.1\n155. 5.2\n156. 5.4\n157. 3.4\n158. 6.3\n159. 5.6\n160. 4.8\n161. 5.7\n162. 4.6\n163. 4.8\n164. 3.9\n165. 5.1\n166. 4.8\n167. 4.6\n168. 5.5\n169. 4.9\n170. 5.6\n171. 5.5\n172. 5\n173. 7.3\n174. 4.1\n175. 4.1\n176. 4.9\n177. 3\n178. 5.4\n179. 4.8\n180. 6.1\n181. 6.1\n182. 4.7\n183. 6.3\n184. 5\n185. 4.5\n186. 6.1\n187. 5.3\n188. 4.5\n189. 5.4\n190. 5.6\n191. 6.5\n192. 4.8\n193. 6.3\n194. 4.7\n195. 5.6\n196. 5.7\n197. 5.4\n198. 5.2\n199. 6\n200. 5.7\n201. ⋯\n202. 6.1\n203. 3\n204. 6.6\n205. 6.6\n206. 4.2\n207. 4.9\n208. 4.3\n209. 6.6\n210. 3.5\n211. 2.8\n212. 4.7\n213. 4.7\n214. 4.3\n215. 6.1\n216. 6\n217. 4.2\n218. 5.2\n219. 7.6\n220. 5.2\n221. 6.3\n222. 5\n223. 6.7\n224. 5.2\n225. 6\n226. 5.5\n227. 5.9\n228. 4.5\n229. 5.4\n230. 3.4\n231. 6.4\n232. 6.6\n233. 5.3\n234. 5.5\n235. 6.2\n236. 3.9\n237. 5.2\n238. 5.6\n239. 5.4\n240. 4.8\n241. 3.8\n242. 4.8\n243. 5.1\n244. 6.6\n245. 5.2\n246. 4.7\n247. 4.8\n248. 4.8\n249. 4.9\n250. 4.8\n251. 4.4\n252. 5.8\n253. 2.7\n254. 6.2\n255. 4.4\n256. 4.5\n257. 5.7\n258. 3.9\n259. 5.7\n260. 3.9\n261. 5.3\n262. 5\n263. 5.9\n264. 5.2\n265. 4.1\n266. 7.3\n267. 4.8\n268. 4.4\n269. 5.1\n270. 5\n271. 5.1\n272. 6.5\n273. 4.7\n274. 4.2\n275. 6.1\n276. 5.4\n277. 6.8\n278. 3.8\n279. 3.6\n280. 5.4\n281. 4.6\n282. 4\n283. 3.8\n284. 5.4\n285. 6.4\n286. 5.3\n287. 4.7\n288. 2.7\n289. 5.4\n290. 4.6\n291. 5.3\n292. 6.4\n293. 3.9\n294. 6.3\n295. 2.8\n296. 5.1\n297. 5.1\n298. 4.7\n299. 4.5\n300. 5.2\n301. 6.2\n302. 6.7\n303. 5.1\n304. 7.9\n305. 5.1\n306. 5.9\n307. 5.2\n308. 4.2\n309. 5.6\n310. 4.2\n311. 7.6\n312. 3.7\n313. 4.3\n314. 6.2\n315. 4.3\n316. 5.9\n317. 5.5\n318. 4.7\n319. 4.8\n320. 6.4\n321. 6.3\n322. 5.5\n323. 6.3\n324. 5.5\n325. 7.1\n326. 6\n327. 5.5\n328. 5.5\n329. 5.9\n330. 4.6\n331. 4.8\n332. 4.1\n333. 5.1\n334. 2.5\n335. 3.9\n336. 5.1\n337. 6.9\n338. 7.1\n339. 5.4\n340. 5.2\n341. 5.4\n342. 5\n343. 4.6\n344. 3.7\n345. 5.4\n346. 4.9\n347. 4.4\n348. 6.3\n349. 4.1\n350. 4.4\n351. 3\n352. 4.4\n353. 5.8\n354. 5.3\n355. 4.3\n356. 5.6\n357. 5.9\n358. 4.7\n359. 5.7\n360. 6.1\n361. 4.6\n362. 5\n363. 6.2\n364. 5.4\n365. 7.7\n366. 3.7\n367. 3.9\n368. 4.9\n369. 6.1\n370. 4.4\n371. 5.5\n372. 6\n373. 4.5\n374. 3.8\n375. 5.1\n376. 6\n377. 3.6\n378. 4.2\n379. 6.2\n380. 6.6\n381. 5.4\n382. 2.5\n383. 2.9\n384. 6.2\n385. 5.6\n386. 5.8\n387. 3.9\n388. 5.1\n389. 5.2\n390. 4.9\n391. 5.7\n392. 4.1\n393. 5.5\n394. 4\n395. 4.3\n396. 5.6\n397. 6.7\n398. 5.1\n399. 4\n400. 5.7\n401. 5.7\n\n\n",
            "text/latex": "\\begin{enumerate*}\n\\item 4.6\n\\item 5\n\\item 4.8\n\\item 4.6\n\\item 5.1\n\\item 4.1\n\\item 4\n\\item 5.2\n\\item 6\n\\item 5.4\n\\item 5\n\\item 5.3\n\\item 7.1\n\\item 4.8\n\\item 5.2\n\\item 5.3\n\\item 5.4\n\\item 5.3\n\\item 5.8\n\\item 4.9\n\\item 6.2\n\\item 3.7\n\\item 4.4\n\\item 3.8\n\\item 5\n\\item 5.4\n\\item 4.4\n\\item 7.5\n\\item 7.1\n\\item 4.5\n\\item 5.6\n\\item 5.4\n\\item 6\n\\item 5.2\n\\item 5.6\n\\item 4.7\n\\item 6.5\n\\item 5.6\n\\item 5.5\n\\item 6.5\n\\item 4.7\n\\item 5.9\n\\item 6.7\n\\item 5.4\n\\item 5.1\n\\item 6.2\n\\item 4.6\n\\item 4.8\n\\item 5.6\n\\item 6\n\\item 6\n\\item 6\n\\item 6.3\n\\item 5.9\n\\item 6.5\n\\item 5.9\n\\item 5.6\n\\item 4.4\n\\item 6.5\n\\item 6.2\n\\item 5.4\n\\item 5.3\n\\item 4.6\n\\item 6\n\\item 4.5\n\\item 4.8\n\\item 5.5\n\\item 4.2\n\\item 4.6\n\\item 4.9\n\\item 5.2\n\\item 5.2\n\\item 7.2\n\\item 5.1\n\\item 6.1\n\\item 6.2\n\\item 5\n\\item 6.5\n\\item 3.9\n\\item 6.9\n\\item 5.5\n\\item 4.9\n\\item 5\n\\item 5.5\n\\item 5.7\n\\item 5.9\n\\item 5.8\n\\item 6\n\\item 4.3\n\\item 4.3\n\\item 4.8\n\\item 5.5\n\\item 7.3\n\\item 5.4\n\\item 6.3\n\\item 6.6\n\\item 6.7\n\\item 5.4\n\\item 4.1\n\\item 3.8\n\\item 4.6\n\\item 6.3\n\\item 5.5\n\\item 4.5\n\\item 5.6\n\\item 4.2\n\\item 5.4\n\\item 5.5\n\\item 6.4\n\\item 3.9\n\\item 4.2\n\\item 4.6\n\\item 6.2\n\\item 5.5\n\\item 4.3\n\\item 5.2\n\\item 6.6\n\\item 5.8\n\\item 4.8\n\\item 4.5\n\\item 3.4\n\\item 5\n\\item 3.1\n\\item 5.3\n\\item 4.3\n\\item 5.2\n\\item 6.5\n\\item 5.1\n\\item 5.4\n\\item 3.5\n\\item 3.3\n\\item 5.7\n\\item 6\n\\item 6.5\n\\item 3.2\n\\item 5.1\n\\item 4.6\n\\item 4.5\n\\item 6.6\n\\item 5.4\n\\item 4.3\n\\item 6.2\n\\item 2.2\n\\item 6.2\n\\item 5.5\n\\item 4.8\n\\item 5.2\n\\item 4.9\n\\item 4.7\n\\item 6\n\\item 4.8\n\\item 3.6\n\\item 4.4\n\\item 6.1\n\\item 5.2\n\\item 5.4\n\\item 3.4\n\\item 6.3\n\\item 5.6\n\\item 4.8\n\\item 5.7\n\\item 4.6\n\\item 4.8\n\\item 3.9\n\\item 5.1\n\\item 4.8\n\\item 4.6\n\\item 5.5\n\\item 4.9\n\\item 5.6\n\\item 5.5\n\\item 5\n\\item 7.3\n\\item 4.1\n\\item 4.1\n\\item 4.9\n\\item 3\n\\item 5.4\n\\item 4.8\n\\item 6.1\n\\item 6.1\n\\item 4.7\n\\item 6.3\n\\item 5\n\\item 4.5\n\\item 6.1\n\\item 5.3\n\\item 4.5\n\\item 5.4\n\\item 5.6\n\\item 6.5\n\\item 4.8\n\\item 6.3\n\\item 4.7\n\\item 5.6\n\\item 5.7\n\\item 5.4\n\\item 5.2\n\\item 6\n\\item 5.7\n\\item ⋯\n\\item 6.1\n\\item 3\n\\item 6.6\n\\item 6.6\n\\item 4.2\n\\item 4.9\n\\item 4.3\n\\item 6.6\n\\item 3.5\n\\item 2.8\n\\item 4.7\n\\item 4.7\n\\item 4.3\n\\item 6.1\n\\item 6\n\\item 4.2\n\\item 5.2\n\\item 7.6\n\\item 5.2\n\\item 6.3\n\\item 5\n\\item 6.7\n\\item 5.2\n\\item 6\n\\item 5.5\n\\item 5.9\n\\item 4.5\n\\item 5.4\n\\item 3.4\n\\item 6.4\n\\item 6.6\n\\item 5.3\n\\item 5.5\n\\item 6.2\n\\item 3.9\n\\item 5.2\n\\item 5.6\n\\item 5.4\n\\item 4.8\n\\item 3.8\n\\item 4.8\n\\item 5.1\n\\item 6.6\n\\item 5.2\n\\item 4.7\n\\item 4.8\n\\item 4.8\n\\item 4.9\n\\item 4.8\n\\item 4.4\n\\item 5.8\n\\item 2.7\n\\item 6.2\n\\item 4.4\n\\item 4.5\n\\item 5.7\n\\item 3.9\n\\item 5.7\n\\item 3.9\n\\item 5.3\n\\item 5\n\\item 5.9\n\\item 5.2\n\\item 4.1\n\\item 7.3\n\\item 4.8\n\\item 4.4\n\\item 5.1\n\\item 5\n\\item 5.1\n\\item 6.5\n\\item 4.7\n\\item 4.2\n\\item 6.1\n\\item 5.4\n\\item 6.8\n\\item 3.8\n\\item 3.6\n\\item 5.4\n\\item 4.6\n\\item 4\n\\item 3.8\n\\item 5.4\n\\item 6.4\n\\item 5.3\n\\item 4.7\n\\item 2.7\n\\item 5.4\n\\item 4.6\n\\item 5.3\n\\item 6.4\n\\item 3.9\n\\item 6.3\n\\item 2.8\n\\item 5.1\n\\item 5.1\n\\item 4.7\n\\item 4.5\n\\item 5.2\n\\item 6.2\n\\item 6.7\n\\item 5.1\n\\item 7.9\n\\item 5.1\n\\item 5.9\n\\item 5.2\n\\item 4.2\n\\item 5.6\n\\item 4.2\n\\item 7.6\n\\item 3.7\n\\item 4.3\n\\item 6.2\n\\item 4.3\n\\item 5.9\n\\item 5.5\n\\item 4.7\n\\item 4.8\n\\item 6.4\n\\item 6.3\n\\item 5.5\n\\item 6.3\n\\item 5.5\n\\item 7.1\n\\item 6\n\\item 5.5\n\\item 5.5\n\\item 5.9\n\\item 4.6\n\\item 4.8\n\\item 4.1\n\\item 5.1\n\\item 2.5\n\\item 3.9\n\\item 5.1\n\\item 6.9\n\\item 7.1\n\\item 5.4\n\\item 5.2\n\\item 5.4\n\\item 5\n\\item 4.6\n\\item 3.7\n\\item 5.4\n\\item 4.9\n\\item 4.4\n\\item 6.3\n\\item 4.1\n\\item 4.4\n\\item 3\n\\item 4.4\n\\item 5.8\n\\item 5.3\n\\item 4.3\n\\item 5.6\n\\item 5.9\n\\item 4.7\n\\item 5.7\n\\item 6.1\n\\item 4.6\n\\item 5\n\\item 6.2\n\\item 5.4\n\\item 7.7\n\\item 3.7\n\\item 3.9\n\\item 4.9\n\\item 6.1\n\\item 4.4\n\\item 5.5\n\\item 6\n\\item 4.5\n\\item 3.8\n\\item 5.1\n\\item 6\n\\item 3.6\n\\item 4.2\n\\item 6.2\n\\item 6.6\n\\item 5.4\n\\item 2.5\n\\item 2.9\n\\item 6.2\n\\item 5.6\n\\item 5.8\n\\item 3.9\n\\item 5.1\n\\item 5.2\n\\item 4.9\n\\item 5.7\n\\item 4.1\n\\item 5.5\n\\item 4\n\\item 4.3\n\\item 5.6\n\\item 6.7\n\\item 5.1\n\\item 4\n\\item 5.7\n\\item 5.7\n\\end{enumerate*}\n",
            "text/plain": [
              "   [1] 4.6 5.0 4.8 4.6 5.1 4.1 4.0 5.2 6.0 5.4 5.0 5.3 7.1 4.8 5.2 5.3 5.4 5.3\n",
              "  [19] 5.8 4.9 6.2 3.7 4.4 3.8 5.0 5.4 4.4 7.5 7.1 4.5 5.6 5.4 6.0 5.2 5.6 4.7\n",
              "  [37] 6.5 5.6 5.5 6.5 4.7 5.9 6.7 5.4 5.1 6.2 4.6 4.8 5.6 6.0 6.0 6.0 6.3 5.9\n",
              "  [55] 6.5 5.9 5.6 4.4 6.5 6.2 5.4 5.3 4.6 6.0 4.5 4.8 5.5 4.2 4.6 4.9 5.2 5.2\n",
              "  [73] 7.2 5.1 6.1 6.2 5.0 6.5 3.9 6.9 5.5 4.9 5.0 5.5 5.7 5.9 5.8 6.0 4.3 4.3\n",
              "  [91] 4.8 5.5 7.3 5.4 6.3 6.6 6.7 5.4 4.1 3.8 4.6 6.3 5.5 4.5 5.6 4.2 5.4 5.5\n",
              " [109] 6.4 3.9 4.2 4.6 6.2 5.5 4.3 5.2 6.6 5.8 4.8 4.5 3.4 5.0 3.1 5.3 4.3 5.2\n",
              " [127] 6.5 5.1 5.4 3.5 3.3 5.7 6.0 6.5 3.2 5.1 4.6 4.5 6.6 5.4 4.3 6.2 2.2 6.2\n",
              " [145] 5.5 4.8 5.2 4.9 4.7 6.0 4.8 3.6 4.4 6.1 5.2 5.4 3.4 6.3 5.6 4.8 5.7 4.6\n",
              " [163] 4.8 3.9 5.1 4.8 4.6 5.5 4.9 5.6 5.5 5.0 7.3 4.1 4.1 4.9 3.0 5.4 4.8 6.1\n",
              " [181] 6.1 4.7 6.3 5.0 4.5 6.1 5.3 4.5 5.4 5.6 6.5 4.8 6.3 4.7 5.6 5.7 5.4 5.2\n",
              " [199] 6.0 5.7 6.5 4.3 4.8 4.4 5.8 7.1 4.8 6.0 4.2 6.4 4.8 7.5 4.1 7.3 5.6 5.3\n",
              " [217] 4.2 5.4 5.0 4.4 5.3 4.0 5.5 3.8 3.6 6.2 5.0 5.2 4.8 5.0 5.0 4.8 5.3 6.1\n",
              " [235] 3.1 4.0 5.0 6.7 5.8 6.9 6.0 6.5 4.1 4.5 6.1 3.6 6.6 3.5 5.6 2.3 4.8 6.1\n",
              " [253] 5.7 6.9 6.5 3.1 6.9 5.5 7.1 5.4 5.1 3.9 4.6 5.1 5.6 5.0 5.6 3.7 6.1 4.8\n",
              " [271] 4.9 5.5 4.7 7.1 7.1 5.5 6.1 3.6 4.3 4.3 4.9 5.7 5.3 5.4 5.9 4.6 5.6 5.9\n",
              " [289] 4.1 6.1 6.1 4.8 5.8 7.8 5.9 6.9 4.8 5.0 4.5 3.5 5.5 4.3 4.2 6.6 6.0 4.9\n",
              " [307] 6.0 6.0 4.4 5.9 2.9 7.3 5.0 4.0 4.3 4.1 7.3 5.7 5.0 5.9 3.4 6.9 6.9 5.6\n",
              " [325] 5.7 6.1 5.9 6.6 4.6 5.9 5.1 4.9 3.7 4.1 6.5 3.8 4.2 5.9 6.6 4.3 4.1 5.9\n",
              " [343] 5.4 6.5 4.5 5.4 4.9 3.8 4.6 3.6 5.0 5.9 4.3 8.5 6.3 6.2 4.5 3.6 5.9 5.1\n",
              " [361] 5.8 5.4 3.8 5.5 5.2 5.1 5.4 5.8 6.0 6.3 6.6 6.9 5.7 4.4 4.5 5.9 6.1 4.7\n",
              " [379] 6.3 3.8 5.2 6.4 6.3 6.6 6.2 3.6 4.5 4.4 4.7 5.6 4.4 5.1 6.0 4.3 4.9 6.8\n",
              " [397] 5.1 5.9 6.0 4.6 5.7 3.5 6.6 4.7 5.4 5.3 4.9 7.7 4.1 6.4 6.6 4.6 5.2 3.4\n",
              " [415] 6.0 6.1 5.2 6.2 5.6 5.7 5.9 3.9 5.1 4.4 5.6 4.5 5.2 3.8 5.3 4.1 6.2 4.0\n",
              " [433] 5.2 4.7 5.5 6.7 6.0 7.2 6.5 4.2 5.6 5.7 5.7 4.5 4.5 4.9 5.0 4.2 5.5 4.7\n",
              " [451] 4.3 2.9 5.1 5.4 4.2 5.1 4.4 6.5 5.9 5.2 7.2 4.6 5.2 4.5 3.2 4.6 4.8 4.6\n",
              " [469] 4.3 5.7 4.0 6.4 5.0 5.0 5.4 5.3 5.0 6.2 5.3 6.3 5.1 6.7 4.1 6.0 5.5 5.6\n",
              " [487] 5.8 6.5 5.6 5.0 5.2 4.3 4.7 4.2 5.6 4.8 4.1 4.8 4.7 4.1 5.4 4.8 5.9 5.9\n",
              " [505] 5.4 5.6 4.4 6.7 4.4 5.4 6.3 5.0 3.5 4.7 5.5 4.8 4.5 6.4 5.4 5.0 4.8 5.0\n",
              " [523] 6.2 4.5 6.9 5.0 6.0 5.6 5.3 4.4 7.4 4.8 4.8 6.1 7.2 5.5 5.5 5.3 4.8 5.0\n",
              " [541] 4.2 5.5 5.3 6.6 6.1 4.8 5.7 5.1 3.8 6.8 4.8 5.6 4.8 4.1 4.8 6.1 5.6 5.3\n",
              " [559] 6.9 6.3 5.3 5.5 5.8 5.8 4.8 5.8 4.7 4.8 4.3 6.3 5.3 5.5 5.3 5.0 4.2 3.9\n",
              " [577] 5.0 4.3 5.1 5.2 6.2 5.6 7.2 5.5 5.0 6.1 6.0 3.5 5.2 4.6 6.3 6.1 4.3 5.7\n",
              " [595] 4.0 4.6 6.4 6.3 5.1 7.1 6.4 5.3 5.4 5.6 5.9 3.9 5.1 3.7 5.6 4.4 4.4 4.1\n",
              " [613] 5.5 5.4 4.7 3.6 6.0 3.9 4.1 4.7 4.9 6.8 4.5 4.7 4.6 5.9 5.8 5.4 4.8 5.5\n",
              " [631] 3.3 4.9 5.4 4.0 4.4 7.3 3.3 5.5 6.3 3.1 5.6 4.3 4.7 5.9 5.8 5.8 4.5 6.5\n",
              " [649] 4.3 4.6 3.2 6.4 5.4 3.6 3.2 4.9 5.1 3.5 4.2 6.4 5.9 5.2 5.1 3.1 3.1 5.2\n",
              " [667] 3.1 7.0 4.4 4.3 6.0 5.3 6.2 5.5 4.9 6.1 5.8 3.2 4.2 4.7 3.2 2.6 4.8 4.9\n",
              " [685] 6.9 5.5 6.0 5.2 3.7 6.1 5.3 5.4 6.5 5.4 5.1 7.0 4.6 3.9 6.4 5.0 5.5 4.4\n",
              " [703] 5.1 4.8 6.7 4.7 4.2 5.6 5.0 5.9 6.3 6.6 5.4 4.1 4.5 7.3 5.0 4.6 5.1 6.2\n",
              " [721] 7.1 4.6 3.9 4.7 6.0 4.7 3.8 5.7 4.0 4.5 5.4 4.2 4.5 5.6 5.6 5.5 4.9 6.0\n",
              " [739] 5.3 5.3 4.2 6.3 4.9 6.4 5.3 5.3 4.0 4.3 4.2 6.3 5.4 5.1 4.8 4.4 4.4 4.2\n",
              " [757] 6.1 5.8 6.8 6.4 5.1 6.1 5.5 3.7 6.8 4.4 5.1 4.4 6.4 5.9 4.5 6.3 5.2 5.4\n",
              " [775] 5.2 4.0 2.4 3.6 5.9 4.7 3.8 5.2 5.3 4.8 3.7 5.0 7.5 4.4 5.4 5.2 3.4 4.1\n",
              " [793] 4.8 4.3 4.0 4.9 4.7 5.5 4.8 7.5 3.5 5.7 5.3 5.1 5.5 4.6 4.1 4.5 5.4 5.6\n",
              " [811] 4.6 4.5 4.2 5.6 4.4 5.3 4.5 4.5 4.7 5.4 3.7 5.3 4.9 4.3 4.3 5.6 6.9 4.6\n",
              " [829] 4.8 5.7 4.8 6.0 6.7 5.4 5.0 5.7 5.5 4.6 5.4 5.0 4.9 3.9 6.3 7.5 6.7 5.6\n",
              " [847] 5.3 3.7 5.8 5.6 5.6 5.8 2.3 5.7 5.1 6.2 4.8 3.8 6.2 5.5 5.5 5.0 5.6 5.5\n",
              " [865] 6.0 6.9 6.8 5.6 4.6 4.6 5.5 4.7 5.1 6.4 4.9 5.9 5.0 5.1 4.5 6.0 3.2 5.5\n",
              " [883] 6.2 4.7 4.8 5.7 4.8 4.7 5.9 2.6 5.6 3.9 5.0 6.9 5.7 5.0 7.4 4.0 5.2 6.0\n",
              " [901] 4.1 5.1 5.8 4.1 5.3 4.7 5.8 6.6 4.9 5.1 5.0 5.2 6.5 4.1 5.7 5.4 4.3 5.7\n",
              " [919] 6.8 3.6 5.7 5.2 4.8 6.2 5.8 5.8 5.1 4.8 6.0 5.7 5.2 3.3 5.0 7.2 5.3 6.5\n",
              " [937] 3.5 4.6 6.9 4.5 4.7 4.6 5.9 3.4 2.1 4.5 4.4 6.0 5.5 6.2 4.8 3.4 5.7 4.4\n",
              " [955] 6.6 4.7 4.1 5.6 5.3 6.6 4.0 5.9 6.3 4.1 5.0 4.7 5.6 6.5 4.7 3.8 6.0 5.2\n",
              " [973] 4.6 3.3 4.2 6.4 4.8 4.6 4.7 7.2 5.0 3.6 3.3 5.0 4.2 4.2 5.3 5.5 5.7 5.1\n",
              " [991] 4.5 3.8 6.7 5.4 5.9 6.9 5.3 6.2 4.7 3.6 5.1 6.1 5.4 5.5 4.3 6.7 4.8 4.8\n",
              "[1009] 5.8 6.4 6.2 4.7 6.2 6.9 5.7 5.3 5.0 5.4 6.0 3.9 5.1 5.1 7.0 4.1 5.3 5.6\n",
              "[1027] 3.7 5.1 3.9 4.5 4.4 5.2 6.6 3.9 5.0 4.7 7.3 6.6 5.9 6.3 3.8 4.7 5.8 6.0\n",
              "[1045] 4.4 5.6 3.8 3.8 5.1 6.8 4.3 5.5 4.7 4.7 4.1 7.3 5.5 6.6 3.3 5.4 6.5 4.3\n",
              "[1063] 5.2 3.9 6.1 3.7 4.9 4.4 5.5 7.0 5.6 4.3 5.0 5.3 3.7 5.3 5.3 5.1 4.0 5.2\n",
              "[1081] 4.9 5.6 5.3 4.0 6.4 4.8 4.1 5.0 5.0 5.3 2.2 3.9 5.5 4.0 4.7 5.7 4.4 5.5\n",
              "[1099] 5.7 5.6 3.6 5.2 3.6 6.0 5.2 4.7 4.4 4.8 6.3 6.6 5.9 5.8 4.8 5.7 4.9 5.4\n",
              "[1117] 5.2 5.0 6.6 5.9 4.6 5.6 5.1 5.4 6.0 5.1 3.3 6.1 4.0 5.4 4.4 7.8 5.8 4.8\n",
              "[1135] 5.0 4.4 5.0 5.2 5.8 5.2 6.2 3.7 5.8 4.3 5.6 6.8 4.1 4.3 5.8 5.4 5.0 6.3\n",
              "[1153] 6.6 4.9 4.3 5.3 5.1 4.2 4.1 7.2 6.8 4.9 3.4 5.7 4.1 4.7 4.3 5.6 7.2 4.6\n",
              "[1171] 4.7 4.3 4.9 5.3 4.1 5.7 4.2 4.8 2.6 4.1 6.9 5.7 5.3 4.9 5.6 3.9 5.0 4.9\n",
              "[1189] 5.3 6.9 5.9 5.6 4.7 6.6 4.8 6.0 5.5 6.1 4.3 5.4 6.7 4.5 5.3 3.6 3.9 3.9\n",
              "[1207] 5.8 6.2 7.4 3.4 6.0 6.3 6.4 5.7 4.8 3.4 5.5 2.8 4.1 5.3 4.3 5.0 5.3 6.2\n",
              "[1225] 5.1 6.7 5.3 3.4 5.6 6.2 6.6 4.4 5.6 4.1 5.6 4.0 6.5 6.2 6.2 6.6 6.0 5.3\n",
              "[1243] 5.1 6.2 6.6 3.8 4.4 4.4 4.8 4.8 5.2 5.6 4.7 6.7 5.1 4.8 2.5 5.4 6.2 4.4\n",
              "[1261] 5.6 3.8 5.0 4.1 3.6 4.0 4.8 3.0 4.4 6.2 3.7 5.5 4.8 5.9 5.9 7.0 4.8 6.2\n",
              "[1279] 3.4 5.2 4.5 5.6 4.3 4.9 5.4 6.3 7.2 4.6 5.2 4.8 6.3 4.6 5.5 5.9 5.0 7.4\n",
              "[1297] 5.4 3.0 6.5 4.9 6.5 4.4 4.4 5.4 5.2 3.8 4.0 5.3 4.8 6.0 4.0 5.0 3.5 5.9\n",
              "[1315] 4.0 6.5 4.6 5.8 5.6 3.3 6.4 4.6 5.6 6.9 5.8 5.9 5.8 7.0 5.4 5.6 5.1 5.1\n",
              "[1333] 6.2 4.3 5.1 5.7 4.0 7.4 4.4 6.3 4.0 6.3 6.9 5.4 5.5 5.8 6.5 4.8 5.8 3.9\n",
              "[1351] 5.3 4.3 5.1 6.1 3.8 3.3 4.6 4.1 6.7 5.1 6.0 5.0 5.4 4.5 7.7 5.3 5.3 4.7\n",
              "[1369] 5.3 6.2 6.5 5.9 3.6 5.0 5.5 6.6 4.7 3.4 4.7 5.2 3.8 6.6 6.8 4.9 4.5 5.5\n",
              "[1387] 5.1 6.2 3.2 6.6 7.2 3.6 5.4 5.2 5.8 5.7 6.5 5.7 6.4 5.2 5.0 3.2 4.8 4.7\n",
              "[1405] 5.0 6.3 5.4 5.1 5.7 3.5 7.0 5.2 6.5 4.4 6.1 3.0 6.8 4.1 4.8 6.2 5.6 4.2\n",
              "[1423] 5.6 4.1 4.1 5.3 5.7 6.1 6.0 3.7 5.6 4.3 5.9 5.1 4.3 4.9 6.2 4.9 5.9 4.6\n",
              "[1441] 4.7 5.6 6.3 7.1 5.3 4.0 6.3 4.3 6.6 6.0 5.2 5.1 6.7 5.9 4.0 6.1 6.7 4.9\n",
              "[1459] 6.9 5.0 5.7 6.0 5.2 6.6 5.0 5.1 7.1 2.9 5.3 5.8 6.0 4.3 5.4 5.0 5.8 3.1\n",
              "[1477] 4.3 5.4 7.3 4.9 5.5 4.2 3.0 4.5 5.9 5.8 4.6 3.7 4.5 4.3 5.6 6.2 3.4 5.5\n",
              "[1495] 4.8 4.9 6.3 3.8 4.6 4.2 6.3 4.6 5.2 6.9 5.0 4.1 4.3 4.3 4.5 4.4 6.0 5.8\n",
              "[1513] 7.7 5.7 4.4 4.6 5.2 4.9 5.7 5.3 4.9 5.5 7.8 5.3 4.8 6.7 6.7 5.0 5.4 6.4\n",
              "[1531] 4.8 4.8 5.2 5.7 6.8 4.0 5.3 5.5 5.0 5.3 6.4 4.2 6.0 6.2 6.1 5.6 3.3 5.1\n",
              "[1549] 4.7 5.2 4.7 3.7 3.2 4.3 6.4 6.5 4.6 4.4 5.4 5.4 5.9 4.7 7.1 5.6 5.3 4.2\n",
              "[1567] 5.5 6.1 6.0 4.9 4.7 6.8 5.4 3.4 5.6 4.2 4.4 5.9 5.6 5.3 5.5 5.4 4.6 6.7\n",
              "[1585] 5.8 6.7 7.1 4.8 5.3 7.3 3.9 6.4 5.0 5.7 3.1 5.2 3.6 2.0 4.7 6.0 6.4 4.0\n",
              "[1603] 3.7 4.0 5.9 7.1 5.7 5.7 6.5 5.7 4.5 4.1 6.0 5.3 5.2 5.7 4.3 4.8 5.9 5.2\n",
              "[1621] 4.6 4.0 5.0 4.4 5.3 5.9 6.8 4.3 5.6 4.8 5.6 5.2 6.1 5.8 3.1 5.2 7.8 4.1\n",
              "[1639] 4.1 6.6 4.1 5.6 3.7 3.9 5.1 6.7 6.3 4.9 5.7 5.3 6.0 6.3 4.8 5.4 5.5 7.6\n",
              "[1657] 5.3 6.0 6.4 6.6 6.5 4.2 4.2 4.6 6.6 5.3 5.8 6.6 4.8 5.3 2.8 5.1 5.6 5.2\n",
              "[1675] 6.1 4.1 3.6 4.2 5.7 4.7 4.5 6.5 4.9 5.9 5.5 4.6 7.8 5.7 6.6 1.4 5.4 5.2\n",
              "[1693] 6.9 5.5 5.0 5.5 4.6 5.8 5.2 5.8 6.5 5.0 6.7 6.0 6.7 4.9 4.3 5.5 4.1 5.5\n",
              "[1711] 2.8 4.8 4.8 4.7 6.9 3.1 5.0 5.9 6.6 6.4 4.0 5.2 4.0 6.1 3.9 5.1 5.4 4.5\n",
              "[1729] 4.3 3.9 6.6 6.0 6.2 4.2 4.3 4.1 6.6 4.8 4.6 4.8 5.8 5.5 4.8 6.1 2.7 7.4\n",
              "[1747] 5.3 6.5 5.8 5.3 3.8 6.3 6.7 4.7 4.9 3.4 3.6 5.6 4.1 4.4 5.9 5.6 4.9 4.2\n",
              "[1765] 5.4 4.6 5.0 4.9 5.1 5.6 5.5 4.8 6.1 3.4 6.0 5.9 4.0 5.3 4.2 4.0 5.4 4.0\n",
              "[1783] 4.9 4.6 4.8 2.6 6.1 7.1 4.6 5.2 5.6 5.8 3.4 5.2 6.1 6.2 5.8 4.3 5.1 6.1\n",
              "[1801] 6.1 3.0 6.6 6.6 4.2 4.9 4.3 6.6 3.5 2.8 4.7 4.7 4.3 6.1 6.0 4.2 5.2 7.6\n",
              "[1819] 5.2 6.3 5.0 6.7 5.2 6.0 5.5 5.9 4.5 5.4 3.4 6.4 6.6 5.3 5.5 6.2 3.9 5.2\n",
              "[1837] 5.6 5.4 4.8 3.8 4.8 5.1 6.6 5.2 4.7 4.8 4.8 4.9 4.8 4.4 5.8 2.7 6.2 4.4\n",
              "[1855] 4.5 5.7 3.9 5.7 3.9 5.3 5.0 5.9 5.2 4.1 7.3 4.8 4.4 5.1 5.0 5.1 6.5 4.7\n",
              "[1873] 4.2 6.1 5.4 6.8 3.8 3.6 5.4 4.6 4.0 3.8 5.4 6.4 5.3 4.7 2.7 5.4 4.6 5.3\n",
              "[1891] 6.4 3.9 6.3 2.8 5.1 5.1 4.7 4.5 5.2 6.2 6.7 5.1 7.9 5.1 5.9 5.2 4.2 5.6\n",
              "[1909] 4.2 7.6 3.7 4.3 6.2 4.3 5.9 5.5 4.7 4.8 6.4 6.3 5.5 6.3 5.5 7.1 6.0 5.5\n",
              "[1927] 5.5 5.9 4.6 4.8 4.1 5.1 2.5 3.9 5.1 6.9 7.1 5.4 5.2 5.4 5.0 4.6 3.7 5.4\n",
              "[1945] 4.9 4.4 6.3 4.1 4.4 3.0 4.4 5.8 5.3 4.3 5.6 5.9 4.7 5.7 6.1 4.6 5.0 6.2\n",
              "[1963] 5.4 7.7 3.7 3.9 4.9 6.1 4.4 5.5 6.0 4.5 3.8 5.1 6.0 3.6 4.2 6.2 6.6 5.4\n",
              "[1981] 2.5 2.9 6.2 5.6 5.8 3.9 5.1 5.2 4.9 5.7 4.1 5.5 4.0 4.3 5.6 6.7 5.1 4.0\n",
              "[1999] 5.7 5.7"
            ]
          },
          "metadata": {}
        }
      ]
    },
    {
      "cell_type": "markdown",
      "source": [
        "####**Encontrar el valor mínimo y máximo del tiempo en redes.**\n",
        "```\n",
        "min(vector)\n",
        "max(vector)\n",
        "```\n",
        "Estimar la amplitud\n",
        "\n",
        "```\n",
        "diff(range(tiempo_redes))\n",
        "```\n",
        "\n",
        "\n"
      ],
      "metadata": {
        "id": "MoSxkOlW5R1C"
      }
    },
    {
      "cell_type": "code",
      "source": [
        "# Valor mínimo\n",
        "min(datos$Tiempo_redes)\n",
        "min(tiempo_redes)\n",
        "\n",
        "# Valor máximo\n",
        "max(datos$Tiempo_redes)\n",
        "max(tiempo_redes)\n",
        "\n",
        "#Amplitud\n",
        "8.5 - 1.4\n",
        "\n",
        "diff(range(tiempo_redes))"
      ],
      "metadata": {
        "colab": {
          "base_uri": "https://localhost:8080/",
          "height": 121
        },
        "id": "JYaNh0NY6E1z",
        "outputId": "f86f49e2-ab56-4335-a4c7-92e74a8c0bb0"
      },
      "execution_count": null,
      "outputs": [
        {
          "output_type": "display_data",
          "data": {
            "text/html": [
              "1.4"
            ],
            "text/markdown": "1.4",
            "text/latex": "1.4",
            "text/plain": [
              "[1] 1.4"
            ]
          },
          "metadata": {}
        },
        {
          "output_type": "display_data",
          "data": {
            "text/html": [
              "1.4"
            ],
            "text/markdown": "1.4",
            "text/latex": "1.4",
            "text/plain": [
              "[1] 1.4"
            ]
          },
          "metadata": {}
        },
        {
          "output_type": "display_data",
          "data": {
            "text/html": [
              "8.5"
            ],
            "text/markdown": "8.5",
            "text/latex": "8.5",
            "text/plain": [
              "[1] 8.5"
            ]
          },
          "metadata": {}
        },
        {
          "output_type": "display_data",
          "data": {
            "text/html": [
              "8.5"
            ],
            "text/markdown": "8.5",
            "text/latex": "8.5",
            "text/plain": [
              "[1] 8.5"
            ]
          },
          "metadata": {}
        },
        {
          "output_type": "display_data",
          "data": {
            "text/html": [
              "7.1"
            ],
            "text/markdown": "7.1",
            "text/latex": "7.1",
            "text/plain": [
              "[1] 7.1"
            ]
          },
          "metadata": {}
        },
        {
          "output_type": "display_data",
          "data": {
            "text/html": [
              "7.1"
            ],
            "text/markdown": "7.1",
            "text/latex": "7.1",
            "text/plain": [
              "[1] 7.1"
            ]
          },
          "metadata": {}
        }
      ]
    },
    {
      "cell_type": "markdown",
      "source": [
        "####**¿Qué forma tienen los datos?**"
      ],
      "metadata": {
        "id": "QS7z1Hw7b6u7"
      }
    },
    {
      "cell_type": "code",
      "source": [
        "\n",
        "hist(datos$Tiempo_redes,xaxt = \"n\",yaxt=\"n\",xlab='Tiempo en redes(hrs.)',ylab='Número de estudiantes')\n",
        "axis(side=1,at = seq(0,10,0.5))\n",
        "axis(side=2,seq(0,500,50))\n",
        "#5.19985\t4.35\t4.8\n",
        "abline(v=c(5.2,5.2,4.8),col=c('red','blue','green'),lwd=4,text(x = 5.5, y = 415,\n",
        "     label = \"Moda Media/Mediana\"))\n"
      ],
      "metadata": {
        "id": "z91l2W3OcTXh",
        "colab": {
          "base_uri": "https://localhost:8080/",
          "height": 437
        },
        "outputId": "ae1c54b7-7828-47b4-971e-a982b2572ae1"
      },
      "execution_count": null,
      "outputs": [
        {
          "output_type": "display_data",
          "data": {
            "text/plain": [
              "Plot with title “Histogram of datos$Tiempo_redes”"
            ],
            "image/png": "[encoded data removed]"
          },
          "metadata": {
            "image/png": {
              "width": 420,
              "height": 420
            }
          }
        }
      ]
    },
    {
      "cell_type": "code",
      "source": [
        "# Otro ejemplo\n",
        "glucosa <- read.csv('glucosa.csv')\n",
        "\n",
        "hist(glucosa$glucosamgpordL)"
      ],
      "metadata": {
        "id": "9gqnEptHwVXs",
        "colab": {
          "base_uri": "https://localhost:8080/",
          "height": 223
        },
        "outputId": "8e7795ae-c63d-4748-af3b-68f87b13bef9"
      },
      "execution_count": null,
      "outputs": [
        {
          "output_type": "stream",
          "name": "stderr",
          "text": [
            "Warning message in file(file, \"rt\"):\n",
            "“cannot open file 'glucosa.csv': No such file or directory”\n"
          ]
        },
        {
          "output_type": "error",
          "ename": "ERROR",
          "evalue": "ignored",
          "traceback": [
            "Error in file(file, \"rt\"): cannot open the connection\nTraceback:\n",
            "1. read.csv(\"glucosa.csv\")",
            "2. read.table(file = file, header = header, sep = sep, quote = quote, \n .     dec = dec, fill = fill, comment.char = comment.char, ...)",
            "3. file(file, \"rt\")"
          ]
        }
      ]
    },
    {
      "cell_type": "markdown",
      "source": [
        "####**Comparación con las medidas de tendencia central**\n",
        "\n",
        "La tendencia central  proporciona información del valor que se encuentra en el centro de la distribución.\n",
        "\n",
        "\n",
        "\n",
        "**Media.** También llamada promedio, media aritmética o valor esperado.\n",
        "\n",
        "\n",
        "|   |   |   |   |   |\n",
        "|---|---|---|---|---|\n",
        "| Media muestral|$$\\bar{x} = \\frac{1}{n} \\sum_{i=1}^{n}{x_i} $$|\n",
        "|Media poblacional|$$\\mu = \\frac{1}{N} \\sum_{i=1}^{N}{X_i} $$|\n",
        "\n",
        "**Mediana.** Divide un conjunto de datos ordenados  a la mitad.\n",
        "\n",
        "\n",
        "|   |   |   |   |   |\n",
        "|---|---|---|---|---|\n",
        "| $$X_{(n+1/2)}$$  | Si n es impar  |\n",
        "| $$\\frac{1}{2}(X_{(n/2)}+ X_{(n/2+1)}) $$  |Si n es par   | \n",
        "\n",
        "**Moda.** El valor que aparece con mayor frecuencia en el unconjunto de datos.\n",
        "\n",
        "\n",
        "\n",
        "\n",
        "\n",
        "---\n",
        "\n",
        "\n",
        "*   Cuando la distribución es unimodal y media, mediana y moda tienen el mismo valor, la distribución es **símetrica**.\n",
        "*   Cuando la distribución es unimodal y media, mediana y moda tienen valores distintos, la distribución es **sesgada**.\n",
        "\n",
        "  Si la media es mayor a la mediana hay sesgo **positivo** (hacia la derecha).\n",
        "\n",
        "  Si la media es menor a la mediana hay **sesgo negativo** (hacia la izquierda).\n",
        "\n",
        "![](https://mucioosorio.github.io/probabilidad/figs/06_forma-datos.png)\n",
        "\n",
        "\n",
        "**Distribución bimodal**\n",
        "\n",
        "<center>\n",
        "\n",
        "![](https://github.com/MayraDemoss1/Estadistica/blob/main/bimodal.jpg?raw=true) \n",
        "\n",
        "</center>\n"
      ],
      "metadata": {
        "id": "cANDq19Bh1a7"
      }
    },
    {
      "cell_type": "markdown",
      "source": [
        "---\n",
        "**Estimar las medidas de tendencia central del contenido de glucosa.**\n"
      ],
      "metadata": {
        "id": "xBAZ1sbJtrj3"
      }
    },
    {
      "cell_type": "markdown",
      "source": [
        "*Media:*\n",
        "```\n",
        "sum(vector)/length(vector)\n",
        "```\n",
        "sum. Suma los valores del vector.\n",
        "\n",
        "length. Cuenta los valores que hay en el vector."
      ],
      "metadata": {
        "id": "2oH5JQQMvdEv"
      }
    },
    {
      "cell_type": "code",
      "source": [
        "# crear el objeto \"media\" y estimar el valor.\n",
        "media <- round(sum(tiempo_redes)/length(tiempo_redes),1)\n",
        "media"
      ],
      "metadata": {
        "id": "2VLlxEjauEw_"
      },
      "execution_count": null,
      "outputs": []
    },
    {
      "cell_type": "markdown",
      "source": [
        "*Mediana*\n",
        "\n",
        "1. Verificar si **n** es par o inpar.\n",
        "```\n",
        "length(vector)\n",
        "```\n",
        "Si es par:\n",
        "\n",
        "  ```\n",
        "  # Dos posiciones\n",
        "  n/2\n",
        "  (n/2) + 1\n",
        "  ```\n",
        "\n",
        "2. Acceder a la posición en el vector.\n",
        "  ```\n",
        "  vector[posición] #un solo valor\n",
        "  ```\n",
        "  ```\n",
        "  vector[c(posición1,posición2...)] #más de un valor\n",
        "  ```\n"
      ],
      "metadata": {
        "id": "WcT_WFOFv6lz"
      }
    },
    {
      "cell_type": "code",
      "source": [
        "# Crear el objeto \"mediana\" y estimar su valor.\n",
        "length(tiempo_redes)\n",
        "2000/2\n",
        "\n",
        "#Posición de la mediana= 1000,1001\n",
        "\n",
        "# Ordenar los datos de manera ascendente o descendente\n",
        "datos_ordenados <- sort(tiempo_redes)\n",
        "\n",
        "# Acceder a los datos de un vector\n",
        "datos_ordenados [c(1000,1001)]\n",
        "\n",
        "mediana <- (5.2 + 5.2)/2\n",
        "mediana\n"
      ],
      "metadata": {
        "id": "g7IsMoFvwd4c"
      },
      "execution_count": null,
      "outputs": []
    },
    {
      "cell_type": "markdown",
      "source": [
        "*Moda*\n",
        "```\n",
        "table(vector)\n",
        "```\n",
        "```\n",
        "sort(table(vector),decreasing=T)\n",
        "```\n",
        "\n",
        "\n",
        "\n"
      ],
      "metadata": {
        "id": "VVXha3no04HL"
      }
    },
    {
      "cell_type": "code",
      "source": [
        "# Crear el objeto \"moda\" e identificar su valor.\n",
        "#table(tiempo_redes)\n",
        "sort(table(tiempo_redes),decreasing = T)\n",
        "moda <- 4.8"
      ],
      "metadata": {
        "id": "fSBSeViE0nJA"
      },
      "execution_count": null,
      "outputs": []
    },
    {
      "cell_type": "markdown",
      "source": [
        "**Crear una tabla con la medidas de tendencia central para el contenido de glucosa**\n",
        "```\n",
        "cbind(vector1,vector2...)\n",
        "```\n",
        "\n"
      ],
      "metadata": {
        "id": "NuayooPq24UX"
      }
    },
    {
      "cell_type": "code",
      "source": [
        "cbind(media,mediana,moda)"
      ],
      "metadata": {
        "id": "nJWsK9_o3WuB"
      },
      "execution_count": null,
      "outputs": []
    },
    {
      "cell_type": "markdown",
      "source": [
        "**Estimar un intervalo para las medidas de tendencia central**"
      ],
      "metadata": {
        "id": "eY5yCXbcxHSe"
      }
    },
    {
      "cell_type": "code",
      "source": [
        "# Intervalo para la media\n",
        "LI_media <- round(5.20 - (3*sd(datos$Tiempo_redes)),1)\n",
        "LS_media <- round(5.20 + (3*sd(datos$Tiempo_redes)),1)\n",
        "LI_media\n",
        "LS_media\n",
        "num_datos <- datos$Tiempo_redes[datos$Tiempo_redes >=2.2 & datos$Tiempo_redes <=8.2 ]\n",
        "datos_media <- length(num_datos)"
      ],
      "metadata": {
        "id": "B6pKofHRxS1o"
      },
      "execution_count": null,
      "outputs": []
    },
    {
      "cell_type": "code",
      "source": [
        "# Intervalo para la mediana\n",
        "LI_mediana <- round(5.2 - (3*sd(datos$Tiempo_redes)),1)\n",
        "LS_mediana <- round(5.2 + (3*sd(datos$Tiempo_redes)),1)\n",
        "LI_mediana\n",
        "LS_mediana\n",
        "num_datos1 <- datos$Tiempo_redes[datos$Tiempo_redes >=2.2 & datos$Tiempo_redes <=8.2 ]\n",
        "datos_mediana <- length(num_datos1)"
      ],
      "metadata": {
        "id": "CewWjE1hFowN"
      },
      "execution_count": null,
      "outputs": []
    },
    {
      "cell_type": "code",
      "source": [
        "# Intervalo para la moda\n",
        "LI_moda <- round(4.8 - (3*sd(datos$Tiempo_redes)),1)\n",
        "LS_moda <- round(4.8 + (3*sd(datos$Tiempo_redes)),1)\n",
        "LI_moda\n",
        "LS_moda\n",
        "num_datos2 <- datos$Tiempo_redes[datos$Tiempo_redes >=1.8 & datos$Tiempo_redes <=7.8 ]\n",
        "datos_moda <- length(num_datos2)"
      ],
      "metadata": {
        "id": "vJNr5bs_GY6h"
      },
      "execution_count": null,
      "outputs": []
    },
    {
      "cell_type": "markdown",
      "source": [
        "**Crear una tabla con los intervalos para cada medida**"
      ],
      "metadata": {
        "id": "H0op-BOQHQSB"
      }
    },
    {
      "cell_type": "code",
      "source": [
        "tabla <- rbind(LI_media,LS_media,LI_mediana,LS_mediana,LI_moda,LS_moda)\n",
        "tabla\n",
        "tabla1 <- rbind(datos_media,datos_mediana, datos_moda)\n",
        "tabla1"
      ],
      "metadata": {
        "id": "W8b2QLeUHZS1"
      },
      "execution_count": null,
      "outputs": []
    },
    {
      "cell_type": "markdown",
      "source": [
        "### **¿ Cuál es la medida que representa el tiempo en redes?**\n",
        "**R.**Cualquiera de las tres medidas ya que los valores son muy parecidos."
      ],
      "metadata": {
        "id": "bq-eRquEnD-t"
      }
    },
    {
      "cell_type": "markdown",
      "source": [
        "###**7.2 ¿Cuántos estudiantes pasan más tiempo y cuántos menos tiempo en internet?**"
      ],
      "metadata": {
        "id": "eMCQUXynSNAu"
      }
    },
    {
      "cell_type": "code",
      "source": [
        "# Utilizar como criterio el valor de la media.\n",
        "# Menos tiempo: valores menores a 5.2\n",
        "# Más tiempo: valores mayores a 5.2\n",
        "\n",
        "menos_tiempo <- datos$Tiempo_redes[datos$Tiempo_redes <5.2 ]\n",
        "mas_tiempo <- datos$Tiempo_redes[datos$Tiempo_redes >=5.2 ]\n",
        "\n",
        "Menos_Tiempo <- length(menos_tiempo)\n",
        "Mas_Tiempo <- length(mas_tiempo)\n",
        "\n",
        "#Crear una tabla que contenga el número de datos por categoría\n",
        "tabla2 <- cbind(Menos_Tiempo,Mas_Tiempo)\n",
        "tabla2"
      ],
      "metadata": {
        "id": "1hVSy36WSW_g"
      },
      "execution_count": null,
      "outputs": []
    },
    {
      "cell_type": "code",
      "source": [
        "#Elaborar un gráfico de barras\n",
        "barplot(tabla2,col = c(\"royalblue\"),\n",
        "        main='Tiempos en redes',\n",
        "        xlab='Clasificación',\n",
        "        ylab='Número de estudiantes',\n",
        "        ylim= c(0,1400),cex.lab=1.2)\n",
        "text(c('950','1050'),\n",
        "    x=c(0.7,1.9), y=c(1001,1080))"
      ],
      "metadata": {
        "id": "KUrxFiROUnrb"
      },
      "execution_count": null,
      "outputs": []
    },
    {
      "cell_type": "markdown",
      "source": [
        "**R.**"
      ],
      "metadata": {
        "id": "Isl1W23fX11V"
      }
    },
    {
      "cell_type": "markdown",
      "source": [
        "###**7.3 ¿En dónde existe más variación (tiempo_internet): ¿en los tiempos de los hombres o de las mujeres?** "
      ],
      "metadata": {
        "id": "eDSDH8_BRei8"
      }
    },
    {
      "cell_type": "code",
      "source": [
        "#Crear el vector \"mujer\"\n",
        "mujer <- datos[datos$Sexo == 'Mujer',]\n",
        "mujer\n",
        "\n",
        "tiempo_mujer <- mujer$Tiempo_internet\n",
        "tiempo_mujer\n"
      ],
      "metadata": {
        "id": "u_rFJM-IX_gC"
      },
      "execution_count": null,
      "outputs": []
    },
    {
      "cell_type": "markdown",
      "source": [
        "**Estimar las medidas de dipersión para las mujeres**\n",
        "\n",
        "$Amplitud= Valor Máximo - Valor Mínimo$\n",
        "\n",
        "$Varianza$\n",
        "\n",
        "<div style=\"text-align: left\">\n",
        "\n",
        "$$s^2=\\frac{1}{n-1}{\\sum_{i=1}^{n}\\left(x_i-\\bar{x}\\right)^2}$$\n",
        "\n",
        "$$\\sigma^2=\\frac{1}{N}{\\sum_{i=1}^{N}\\left(x_i-\\mu\\right)^2}$$\n",
        "\n",
        "<div/>\n",
        "\n",
        "$Desviación \\enspace estándar \\enspace o \\enspace típica.$ Se calcula como raíz cuadrada de la varianza."
      ],
      "metadata": {
        "id": "HW2VCnh6c8w_"
      }
    },
    {
      "cell_type": "code",
      "source": [
        "# Amlitud \n",
        "diff(range(tiempo_mujer))\n",
        "\n",
        "# Estimar la varianza\n",
        "media_mujer <- mean(tiempo_mujer)\n",
        "media_mujer\n",
        "sum((media_mujer - tiempo_mujer)^2)/(length(tiempo_mujer)-1)\n",
        "\n",
        "# Estimar la desviación\n",
        "desviacion_mujer <- sqrt(varianza)\n",
        "\n",
        "# Crear un vector con las medidas de dispersión para las mujeres\n",
        "dispersion_mujer <- c(6.1,0.92,0.96)"
      ],
      "metadata": {
        "id": "tz6DJb-rc0x2"
      },
      "execution_count": null,
      "outputs": []
    },
    {
      "cell_type": "markdown",
      "source": [
        "**Estimar las medidas de dispersión para los hombres**"
      ],
      "metadata": {
        "id": "Rl8ODlSxm3wh"
      }
    },
    {
      "cell_type": "code",
      "source": [
        "# Crear el vector \"hombre\"\n",
        "#hombre <- datos[datos$Sexo == 'Hombre',]\n",
        "#hombre\n",
        "\n",
        "tiempo_hombre <- hombre$Tiempo_internet\n",
        "tiempo_hombre\n"
      ],
      "metadata": {
        "id": "q4-AF2Nwndtp"
      },
      "execution_count": null,
      "outputs": []
    },
    {
      "cell_type": "code",
      "source": [
        "# Amlitud \n",
        "diff(range(tiempo_hombre))\n",
        "\n",
        "# Estimar la varianza\n",
        "media_hombre <- mean(tiempo_hombre)\n",
        "media_hombre\n",
        "sum((media_hombre - tiempo_hombre)^2)/(length(tiempo_hombre)-1)\n",
        "\n",
        "# Estimar la desviación\n",
        "desviacion_hombre <- sqrt(varianza)\n",
        "\n",
        "# Crear un vector con las medidas de dispersión para las mujeres\n",
        "dispersion_hombre <- c(6.8,0.99,0.96)"
      ],
      "metadata": {
        "id": "JGKjapucnRDc"
      },
      "execution_count": null,
      "outputs": []
    },
    {
      "cell_type": "code",
      "source": [
        "# Crear una tabla con los valores de las medias de dispersión por género.\n",
        "cbind(Medidas,dispersion_mujer,dispersion_hombre)\n",
        "Medidas <- c('Amplitud','Varianza','Desviación')"
      ],
      "metadata": {
        "id": "N8JcSQHeog-a"
      },
      "execution_count": null,
      "outputs": []
    },
    {
      "cell_type": "markdown",
      "source": [
        "**Elaborar un boxplot para cada variable**"
      ],
      "metadata": {
        "id": "0yve6k-CvUYh"
      }
    },
    {
      "cell_type": "code",
      "source": [
        "boxplot(tiempo_mujer,tiempo_hombre,yaxt='n',ylim=c(0,25),\n",
        "        col=c('pink','blue'))\n",
        "       axis(side =2, at = seq(0,26,2),cex.axis = 1)\n",
        "       axis(1, at = c(1, 2),labels = c(\"Mujer\", \"Hombre\"))\n"
      ],
      "metadata": {
        "id": "LmmGA0i6vfmJ"
      },
      "execution_count": null,
      "outputs": []
    },
    {
      "cell_type": "markdown",
      "source": [
        "**Estimar los valores a partir de los cuales se encuentran los valores atípicos.**\n",
        "\n",
        "LI | LS | RIC\n",
        "---|---|---\n",
        "Q1 - 1.5 * RIC |Q3 + 1.5 * RIC |Q3 - Q1\n",
        "\n",
        "\n",
        "<center>\n",
        "<img src=\"https://github.com/MayraDemoss1/Estadistica/blob/main/outilers.jpg?raw=true\" alt=\"JuveR\" width=\"400px\">\n",
        "</center>\n",
        "\n",
        "\n",
        "\n",
        "\n",
        "```\n",
        "quantile(vector) #Devuelve cinco estadísticos: mínimo, Q1,mediana,Q3 y máximo.\n",
        "```\n",
        "\n",
        "```\n",
        "quantile (vector,probs= ...) # Devuelve el valor del cuartil indicado. \n",
        "```\n",
        "\n",
        "\n",
        "\n"
      ],
      "metadata": {
        "id": "9dPM8s42ncko"
      }
    },
    {
      "cell_type": "code",
      "source": [
        "quantile(tiempo_mujer,probs=0.75)\n",
        "quantile(tiempo_mujer)\n",
        "\n",
        "RIC <- 8.9 - 7.6\n",
        "RIC\n",
        "\n",
        "LI <- 7.6 - 1.5 * 1.3\n",
        "LI\n",
        "LS <- 8.9 + 1.5 * 1.3\n",
        "LS"
      ],
      "metadata": {
        "id": "2DDSuKAl2ciL"
      },
      "execution_count": null,
      "outputs": []
    },
    {
      "cell_type": "code",
      "source": [
        "# Identiicar los valores atípicos.\n",
        "atípicos_inferior <- tiempo_mujer[tiempo_mujer <=5.65] \n",
        "atípicos \n",
        "\n",
        "atípicos_superior <- tiempo_mujer[tiempo_mujer >=10.85]\n",
        "atípicos_superior"
      ],
      "metadata": {
        "id": "akf6OFdYZae2"
      },
      "execution_count": null,
      "outputs": []
    },
    {
      "cell_type": "code",
      "source": [
        "boxplot(tiempo_mujer)\n",
        "abline(h=5.7)"
      ],
      "metadata": {
        "id": "YdvRKWbNahBs"
      },
      "execution_count": null,
      "outputs": []
    },
    {
      "cell_type": "markdown",
      "source": [
        "**En dónde existe más variación: ¿En los datos de tiempo en redes o en la edad?**\n",
        "\n",
        "*Coeficiente de variación*\n",
        "\n",
        "Sirve para comparar la variación entre dos o más variables.\n",
        "\n",
        "$$C.V. = \\frac {s}  {|\\bar{x}|}$$\n",
        "\n",
        "con $\\bar{x} \\ne 0$"
      ],
      "metadata": {
        "id": "A5eLjb1Orj2e"
      }
    },
    {
      "cell_type": "code",
      "source": [
        "# Estimar la covarianza para \"tiempo_redes\"\n",
        "sd(datos$Tiempo_redes)/mean(datos$Tiempo_redes)*100\n",
        "\n",
        "# Estimar la covarianza para \"Edad\"\n",
        "sd(datos$Edad)/mean(datos$Edad)*100"
      ],
      "metadata": {
        "id": "t6-918mxsMjH"
      },
      "execution_count": null,
      "outputs": []
    },
    {
      "cell_type": "markdown",
      "source": [
        "###**7.4 ¿Existe relación entre el tiempo en redes que pasan los estudiantes y el tiempo que pasan en internet?**"
      ],
      "metadata": {
        "id": "k7RY2NbXcLxt"
      }
    },
    {
      "cell_type": "code",
      "source": [
        "plot(datos$Tiempo_internet,datos$Tiempo_redes,\n",
        "    pch=19,col='navy blue',\n",
        "    xlab= 'Tiempo en internet (hrs.)',\n",
        "    ylab= 'Tiempo en redes (hrs.)')"
      ],
      "metadata": {
        "id": "0uxX_EUGdF1e"
      },
      "execution_count": null,
      "outputs": []
    },
    {
      "cell_type": "code",
      "source": [
        "plot(datos$Edad,datos$Tiempo_redes,\n",
        "    pch=19,col='navy blue',\n",
        "    xlab= 'Tiempo en internet (hrs.)',\n",
        "    ylab= 'Tiempo en redes (hrs.)')"
      ],
      "metadata": {
        "id": "qVWI0pr2mOBX"
      },
      "execution_count": null,
      "outputs": []
    },
    {
      "cell_type": "code",
      "source": [
        "library(MASS)\n",
        "nombres <- c('Tiempo_internet','Tiempo_redes','Edad')\n",
        "variables <- cbind(datos$Tiempo_internet,datos$Tiempo_redes,datos$Edad)\n",
        "variables\n",
        "pairs(variables,nombres)\n"
      ],
      "metadata": {
        "id": "MGwzbhiXf-PQ"
      },
      "execution_count": null,
      "outputs": []
    }
  ]
}